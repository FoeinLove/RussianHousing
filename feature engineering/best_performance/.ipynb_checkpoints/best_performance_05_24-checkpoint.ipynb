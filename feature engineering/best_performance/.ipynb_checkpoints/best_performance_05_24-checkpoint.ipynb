{
 "cells": [
  {
   "cell_type": "code",
   "execution_count": 1,
   "metadata": {
    "collapsed": true
   },
   "outputs": [],
   "source": [
    "import numpy as np\n",
    "import pandas as pd\n",
    "import matplotlib.pyplot as plt\n",
    "import seaborn as sns\n",
    "%matplotlib inline\n",
    "from sklearn import model_selection, preprocessing\n",
    "import xgboost as xgb\n",
    "from datetime import timedelta\n",
    "import datetime\n",
    "import math\n",
    "from sklearn import model_selection\n",
    "# from sklearn import proprocessing\n",
    "from sklearn import linear_model\n",
    "from sklearn.linear_model import Ridge, RidgeCV\n",
    "from sklearn.linear_model import Lasso, LassoCV"
   ]
  },
  {
   "cell_type": "code",
   "execution_count": 2,
   "metadata": {
    "collapsed": false
   },
   "outputs": [
    {
     "name": "stdout",
     "output_type": "stream",
     "text": [
      "/Users/williamzhou/Downloads/RussianHousing-master\n"
     ]
    }
   ],
   "source": [
    "cd /Users/williamzhou/Downloads/RussianHousing-master"
   ]
  },
  {
   "cell_type": "code",
   "execution_count": 3,
   "metadata": {
    "collapsed": true
   },
   "outputs": [],
   "source": [
    "train_missing=pd.read_csv('./data/processed/Clean0517/train_xgb.csv')\n",
    "test_missing= pd.read_csv('./data/processed/Clean0517/test_xgb.csv')\n"
   ]
  },
  {
   "cell_type": "code",
   "execution_count": 5,
   "metadata": {
    "collapsed": false
   },
   "outputs": [],
   "source": [
    "train_missing['price_full_sq'] = (train_missing['price_doc']/train_missing['full_sq'].astype(float)).astype(int)\n",
    "y_train_missing = train_missing['price_full_sq']\n",
    "test_id = test_missing.id"
   ]
  },
  {
   "cell_type": "code",
   "execution_count": 6,
   "metadata": {
    "collapsed": true
   },
   "outputs": [],
   "source": [
    "x_train_missing = train_missing.drop(['price_full_sq','price_doc','id','timestamp'],axis=1)\n",
    "x_test_missing = test_missing.drop(['id','timestamp'],axis=1)"
   ]
  },
  {
   "cell_type": "code",
   "execution_count": null,
   "metadata": {
    "collapsed": false
   },
   "outputs": [
    {
     "name": "stdout",
     "output_type": "stream",
     "text": [
      "[0]\ttrain-rmse:137644\ttest-rmse:137656\n",
      "[50]\ttrain-rmse:42357.7\ttest-rmse:44128.3\n",
      "[100]\ttrain-rmse:38930.5\ttest-rmse:41692.2\n",
      "[150]\ttrain-rmse:37374.2\ttest-rmse:41133.8\n",
      "[200]\ttrain-rmse:36159.7\ttest-rmse:40803.7\n",
      "[250]\ttrain-rmse:35089.7\ttest-rmse:40634.4\n",
      "[300]\ttrain-rmse:34193.7\ttest-rmse:40534.9\n",
      "[350]\ttrain-rmse:33339\ttest-rmse:40468.8\n",
      "[400]\ttrain-rmse:32548.1\ttest-rmse:40432.6\n",
      "[450]\ttrain-rmse:31777.1\ttest-rmse:40406.5\n",
      "40402.529948\n"
     ]
    }
   ],
   "source": [
    "xgb_params = {\n",
    "    'eta': 0.05,\n",
    "    'max_depth': 5,\n",
    "    'subsample': 0.7,\n",
    "    'colsample_bytree': 0.7,\n",
    "    'objective': 'reg:linear',\n",
    "    'eval_metric': 'rmse',\n",
    "    'silent': 0\n",
    "}\n",
    "\n",
    "\n",
    "\n",
    "x_train_missing_subset = x_train_missing\n",
    "x_test_missing_subset = x_test_missing\n",
    "dtrain_subset = xgb.DMatrix(x_train_missing_subset, y_train_missing)\n",
    "dtest_subset =  xgb.DMatrix(x_test_missing_subset)\n",
    "cv_output = xgb.cv(xgb_params, dtrain_subset, \n",
    "                       num_boost_round=1000, \n",
    "                       early_stopping_rounds=20,\n",
    "                       verbose_eval=50, show_stdv=False)\n",
    "test_rmse = cv_output.loc[len(cv_output)-1,'test-rmse-mean']\n",
    "print(test_rmse)\n"
   ]
  },
  {
   "cell_type": "code",
   "execution_count": null,
   "metadata": {
    "collapsed": false
   },
   "outputs": [
    {
     "name": "stdout",
     "output_type": "stream",
     "text": [
      "     test-rmse-mean  test-rmse-std  train-rmse-mean  train-rmse-std\n",
      "0     137656.375000     518.822874    137644.328125      251.331099\n",
      "1     131583.458333     532.695565    131547.802083      244.129053\n",
      "2     125837.625000     562.104868    125783.411458      237.543497\n",
      "3     120397.791667     583.676207    120323.851563      234.887814\n",
      "4     115260.992187     612.720321    115177.606771      229.834781\n",
      "5     110431.585937     618.932120    110323.528646      240.601518\n",
      "6     105876.822916     627.069519    105749.372396      248.774887\n",
      "7     101590.872396     630.091708    101442.565105      267.213273\n",
      "8      97536.755209     658.606974     97367.846354      258.870396\n",
      "9      93732.565104     687.720695     93531.617188      271.276129\n",
      "10     90145.796875     692.632116     89917.565104      283.823557\n",
      "11     86782.260417     677.268534     86527.562500      308.958228\n",
      "12     83628.239584     690.656720     83342.747396      317.553347\n",
      "13     80668.294271     687.497602     80345.208333      335.016915\n",
      "14     77894.505208     703.586510     77536.393229      334.415582\n",
      "15     75293.067708     706.575899     74905.971354      348.649192\n",
      "16     72867.901042     720.862499     72447.281250      357.445814\n",
      "17     70590.721354     749.658246     70131.572917      359.626314\n",
      "18     68479.458333     773.692959     67971.296875      357.900929\n",
      "19     66479.101562     795.816454     65930.496094      351.723770\n",
      "20     64635.065104     796.827372     64044.395833      370.885155\n",
      "21     62928.757812     804.530248     62297.390625      376.103392\n",
      "22     61336.386719     798.211471     60657.299479      392.139994\n",
      "23     59833.539063     830.753663     59121.661458      383.749778\n",
      "24     58460.343750     845.897821     57708.470052      389.296208\n",
      "25     57196.627604     834.179062     56412.662760      405.119246\n",
      "26     56006.735677     854.334105     55191.488281      397.991030\n",
      "27     54896.539063     865.709927     54050.730469      401.274535\n",
      "28     53884.575521     895.938141     52988.729167      395.457472\n",
      "29     52959.114583     910.143112     52018.397135      400.101867\n",
      "..              ...            ...              ...             ...\n",
      "427    40423.238281     837.477556     32128.527995      335.726562\n",
      "428    40422.016927     838.310051     32110.623047      340.804582\n",
      "429    40422.976562     839.562150     32099.580078      340.782686\n",
      "430    40420.287760     840.982237     32085.616536      342.804901\n",
      "431    40419.684896     843.011939     32066.583334      342.248247\n",
      "432    40414.347656     838.368456     32051.027995      345.588581\n",
      "433    40415.420573     837.605920     32031.492838      344.540543\n",
      "434    40413.903646     840.441597     32015.770833      343.724956\n",
      "435    40414.492188     839.357446     31997.678385      345.884143\n",
      "436    40415.290365     837.826877     31980.720703      345.131142\n",
      "437    40416.667969     840.244568     31968.388672      340.780290\n",
      "438    40419.960938     842.202363     31951.252604      341.131992\n",
      "439    40420.164063     840.226464     31935.472005      338.732831\n",
      "440    40419.438802     839.670597     31918.878906      333.187000\n",
      "441    40420.332031     841.745892     31903.722656      333.761343\n",
      "442    40419.134115     841.980132     31892.652344      338.271407\n",
      "443    40418.139323     842.694846     31884.488932      338.745546\n",
      "444    40412.954427     845.807496     31872.442057      332.757179\n",
      "445    40412.230469     846.068305     31857.639974      335.236430\n",
      "446    40407.899739     850.807714     31838.949219      334.947359\n",
      "447    40408.187500     849.014494     31824.091146      328.977863\n",
      "448    40408.156250     848.190506     31805.400391      326.729364\n",
      "449    40406.134115     847.097426     31791.370443      327.900529\n",
      "450    40406.546875     846.995091     31777.141927      330.102659\n",
      "451    40408.817708     847.251941     31764.357422      332.968514\n",
      "452    40404.167969     846.389415     31749.699870      323.322026\n",
      "453    40403.416667     845.445173     31733.678385      322.201129\n",
      "454    40403.199219     845.343671     31721.608073      323.477693\n",
      "455    40402.554687     843.856508     31701.796224      324.088676\n",
      "456    40402.529948     842.314066     31684.274088      325.257682\n",
      "\n",
      "[457 rows x 4 columns]\n"
     ]
    }
   ],
   "source": [
    "num_boost_rounds= len(cv_output)\n",
    "print(cv_output)\n",
    "model = xgb.train(dict(xgb_params, silent=0), dtrain_subset, num_boost_round= num_boost_rounds)\n",
    "print('Finish XGBoost training')"
   ]
  },
  {
   "cell_type": "code",
   "execution_count": null,
   "metadata": {
    "collapsed": true
   },
   "outputs": [],
   "source": [
    "y_predict = model.predict(dtest_subset)\n",
    "y_predic_all_sq = (y_predict)*x_test_missing['full_sq']\n",
    "df_sub = pd.DataFrame({'id': test_id, 'price_doc': y_predic_all_sq})\n",
    "df_sub.to_csv('./sub.csv', index=False)\n",
    "df_sub.head()"
   ]
  }
 ],
 "metadata": {
  "kernelspec": {
   "display_name": "Python 2",
   "language": "python",
   "name": "python2"
  },
  "language_info": {
   "codemirror_mode": {
    "name": "ipython",
    "version": 2
   },
   "file_extension": ".py",
   "mimetype": "text/x-python",
   "name": "python",
   "nbconvert_exporter": "python",
   "pygments_lexer": "ipython2",
   "version": "2.7.9"
  }
 },
 "nbformat": 4,
 "nbformat_minor": 2
}
