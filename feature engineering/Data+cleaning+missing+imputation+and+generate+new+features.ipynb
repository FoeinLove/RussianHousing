{
 "cells": [
  {
   "cell_type": "code",
   "execution_count": 406,
   "metadata": {
    "collapsed": true
   },
   "outputs": [],
   "source": [
    "import numpy as np\n",
    "import pandas as pd\n",
    "import matplotlib.pyplot as plt\n",
    "import seaborn as sns\n",
    "%matplotlib inline\n",
    "from sklearn import model_selection, preprocessing\n",
    "import xgboost as xgb\n",
    "from datetime import timedelta\n",
    "import datetime\n",
    "import math\n",
    "import missingno as msno"
   ]
  },
  {
   "cell_type": "code",
   "execution_count": 407,
   "metadata": {
    "collapsed": false
   },
   "outputs": [
    {
     "name": "stdout",
     "output_type": "stream",
     "text": [
      "/Users/williamzhou/Downloads/RussianHousing-master\n"
     ]
    }
   ],
   "source": [
    "cd /Users/williamzhou/Downloads/RussianHousing-master"
   ]
  },
  {
   "cell_type": "code",
   "execution_count": 408,
   "metadata": {
    "collapsed": false
   },
   "outputs": [
    {
     "name": "stdout",
     "output_type": "stream",
     "text": [
      "('train shape', (30471, 299))\n",
      "('test shape', (7662, 296))\n",
      "('final features', 40)\n"
     ]
    }
   ],
   "source": [
    "train=pd.read_csv('./data/processed/Clean0517/train_clean_shu_0517.csv')\n",
    "test = pd.read_csv('./data/processed/Clean0517/test_clean_shu_0517.csv')\n",
    "macro = pd.read_csv('./data/raw/macro.csv')\n",
    "# latlon = pd.read_csv('/Users/williamzhou/Documents/github/RussianHousing/data/external/sub_area_lon_lat.csv')\n",
    "final_feature = list(pd.read_csv('./cv_output/final_feature.csv').iloc[:,0])\n",
    "\n",
    "\n",
    "train['timestamp'] = pd.to_datetime(train['timestamp'])\n",
    "macro['timestamp'] = pd.to_datetime(macro['timestamp'])\n",
    "test['timestamp'] = pd.to_datetime(test['timestamp'])\n",
    "\n",
    "print ('train shape',train.shape)\n",
    "print ('test shape',test.shape)\n",
    "print('final features',len(final_feature))"
   ]
  },
  {
   "cell_type": "code",
   "execution_count": 409,
   "metadata": {
    "collapsed": false
   },
   "outputs": [
    {
     "name": "stdout",
     "output_type": "stream",
     "text": [
      "('train shape', (30471, 300))\n",
      "('test shape', (7662, 296))\n"
     ]
    }
   ],
   "source": [
    "train.loc[train['full_sq'].isnull(),'full_sq']=train['full_sq'].median()\n",
    "test.loc[test['full_sq'].isnull(),'full_sq']=test['full_sq'].median()\n",
    "train['price_full_sq']=train['price_doc']/train['full_sq']\n",
    "train['price_full_sq']=train['price_full_sq'].astype('int64')\n",
    "\n",
    "print ('train shape',train.shape)\n",
    "print ('test shape',test.shape)"
   ]
  },
  {
   "cell_type": "code",
   "execution_count": 410,
   "metadata": {
    "collapsed": false
   },
   "outputs": [
    {
     "name": "stdout",
     "output_type": "stream",
     "text": [
      "(30471, 297)\n",
      "(30471,)\n",
      "(7662, 295)\n"
     ]
    }
   ],
   "source": [
    "y_train=train['price_full_sq']\n",
    "x_train= train.drop(['id','price_doc','price_full_sq'],axis=1)\n",
    "x_test = test.drop(['id'],axis=1)\n",
    "print(x_train.shape)\n",
    "print(y_train.shape)\n",
    "print(x_test.shape)"
   ]
  },
  {
   "cell_type": "code",
   "execution_count": 411,
   "metadata": {
    "collapsed": true
   },
   "outputs": [],
   "source": [
    "num_train = len(train)\n",
    "df_all = pd.concat([x_train,x_test])\n",
    "\n",
    "df_all[['ID_big_road1','ID_big_road2',\n",
    "        'ID_bus_terminal','ID_metro',\n",
    "       'ID_railroad_station_avto',\n",
    "       'ID_railroad_terminal']]=df_all[['ID_big_road1','ID_big_road2',\n",
    "                                        'ID_bus_terminal','ID_metro',\n",
    "                                       'ID_railroad_station_avto',\n",
    "                                       'ID_railroad_terminal']].astype(object)\n",
    "\n",
    "df_all['timestamp'] = pd.to_datetime(df_all['timestamp'])\n",
    "month_year = (df_all.timestamp.dt.month + df_all.timestamp.dt.year * 100)\n",
    "month_year_cnt_map = month_year.value_counts().to_dict()\n",
    "df_all['month_year_cnt'] = month_year.map(month_year_cnt_map)\n",
    "\n",
    "# Add week-year count\n",
    "week_year = (df_all.timestamp.dt.weekofyear + df_all.timestamp.dt.year * 100)\n",
    "week_year_cnt_map = week_year.value_counts().to_dict()\n",
    "df_all['week_year_cnt'] = week_year.map(week_year_cnt_map)\n",
    "\n",
    "for c in df_all.columns:\n",
    "    if df_all[c].dtype == 'object':\n",
    "        lbl = preprocessing.LabelEncoder()\n",
    "        lbl.fit(list(df_all[c].values)) \n",
    "        df_all[c] = lbl.transform(list(df_all[c].values))"
   ]
  },
  {
   "cell_type": "markdown",
   "metadata": {},
   "source": [
    "### Create new features and clean data"
   ]
  },
  {
   "cell_type": "code",
   "execution_count": 412,
   "metadata": {
    "collapsed": false
   },
   "outputs": [],
   "source": [
    "df_all_index= df_all.index\n",
    "df_all = df_all.reset_index(drop=True)"
   ]
  },
  {
   "cell_type": "code",
   "execution_count": 401,
   "metadata": {
    "collapsed": false
   },
   "outputs": [
    {
     "name": "stdout",
     "output_type": "stream",
     "text": [
      "change 27 rows\n"
     ]
    }
   ],
   "source": [
    "# df_all['life_full_sq_percent'] = df_all['life_sq'] / df_all['full_sq']\n",
    "# median_percent = np.median(df_all.loc[df_all['life_full_sq_percent']<=1,'life_full_sq_percent'])\n",
    "# n = 0\n",
    "# for i in range(len(df_all)):\n",
    "#     if df_all.loc[i,'full_sq']< df_all.loc[i,'life_sq']:\n",
    "#         df_all.loc[i,'full_sq'] = df_all.loc[i,'life_sq']/median_percent\n",
    "#         n+=1\n",
    "# print('change %d rows'%n)\n"
   ]
  },
  {
   "cell_type": "code",
   "execution_count": 387,
   "metadata": {
    "collapsed": false
   },
   "outputs": [
    {
     "data": {
      "image/png": "[encoded data removed]",
      "text/plain": [
       "<matplotlib.figure.Figure at 0x11e364710>"
      ]
     },
     "metadata": {},
     "output_type": "display_data"
    }
   ],
   "source": [
    "# df_all['life_full_sq_percent'] = df_all['life_sq'] / df_all['full_sq']\n",
    "# df_all['life_full_sq_percent'].plot()\n",
    "# plt.show()"
   ]
  },
  {
   "cell_type": "code",
   "execution_count": 88,
   "metadata": {
    "collapsed": false
   },
   "outputs": [
    {
     "name": "stdout",
     "output_type": "stream",
     "text": [
      "change 10 rows\n"
     ]
    }
   ],
   "source": [
    "# df_all['kitch_full_sq_percent'] = df_all['kitch_sq'] / df_all['full_sq']\n",
    "\n",
    "# n = 0\n",
    "# for i in range(len(df_all)):\n",
    "#     if df_all.loc[i,'kitch_full_sq_percent']>1:\n",
    "#         df_all.loc[i,'kitch_sq'] = df_all.loc[i,'kitch_sq']/10\n",
    "#         n+=1\n",
    "# print('change %d rows'%n)\n",
    "\n",
    "# df_all['kitch_full_sq_percent'] = df_all['kitch_sq'] / df_all['full_sq']"
   ]
  },
  {
   "cell_type": "code",
   "execution_count": 166,
   "metadata": {
    "collapsed": false
   },
   "outputs": [],
   "source": [
    "# # impute all missing floor with floor median = 6 floor max_floor median = 13 \n",
    "# # Floor and max floor still have lots of unreasonable data around 2000 rows, needs to deal with later\n",
    "# median_floor = np.median(df_all.loc[df_all.floor_max_floor<1,'floor'])\n",
    "# median_max_floor = np.median(df_all.loc[df_all.floor_max_floor<1,'max_floor'])\n",
    "\n",
    "# df_all['floor_max_floor'] = df_all['floor']/df_all['max_floor']\n",
    "# for i in range(len(df_all)):\n",
    "#     if np.isnan(df_all.loc[i,'floor']) or np.isnan(df_all.loc[i,'max_floor']):\n",
    "#         df_all.loc[i,'floor'] =  median_floor\n",
    "#         df_all.loc[i,'max_floor'] = median_max_floor\n",
    "\n",
    "# df_all['floor_max_floor'] = df_all['floor']/df_all['max_floor']"
   ]
  },
  {
   "cell_type": "code",
   "execution_count": 174,
   "metadata": {
    "collapsed": false
   },
   "outputs": [
    {
     "name": "stdout",
     "output_type": "stream",
     "text": [
      "0 missing values are imputed\n"
     ]
    }
   ],
   "source": [
    "# # Life sq missing imputation \n",
    "# median_life_full_ratio = np.median(df_all.loc[df_all.life_full_sq_percent<=1,'life_full_sq_percent'])\n",
    "# n=0\n",
    "# for i in range(len(df_all)):\n",
    "#     if np.isnan(df_all.loc[i,'life_sq']):\n",
    "#         df_all.loc[i,'life_sq'] = df_all.loc[i,'full_sq']*median_life_full_ratio\n",
    "#         n+=1\n",
    "# print('{} missing values are imputed'.format(n))"
   ]
  },
  {
   "cell_type": "code",
   "execution_count": 388,
   "metadata": {
    "collapsed": false
   },
   "outputs": [
    {
     "name": "stdout",
     "output_type": "stream",
     "text": [
      "11479 missing values are imputed\n"
     ]
    }
   ],
   "source": [
    "# # build year missing impute using neighorhood building year weighted average\n",
    "# n=0\n",
    "# for i in range(len(df_all)):\n",
    "#     try:\n",
    "#         if np.isnan(df_all.loc[i,'build_year']):\n",
    "#             a= df_all.loc[i,'build_count_before_1920']\n",
    "#             b= df_all.loc[i,'build_count_1921-1945']\n",
    "#             c= df_all.loc[i,'build_count_1946-1970']\n",
    "#             d= df_all.loc[i,'build_count_1971-1995']\n",
    "#             e= df_all.loc[i,'build_count_after_1995']\n",
    "#             sum_count = a+b+c+d+e\n",
    "#             df_all.loc[i,'build_year'] = int((1908*a+1933*b+1958*c+1983*d+2007*e)/sum_count)\n",
    "#             n+=1\n",
    "#     except:\n",
    "#         pass\n",
    "# print('{} missing values are imputed'.format(n))"
   ]
  },
  {
   "cell_type": "code",
   "execution_count": 210,
   "metadata": {
    "collapsed": false
   },
   "outputs": [],
   "source": [
    "# # For those row have missing neighorhood building year, \n",
    "# # we could calculate the median building year using metro_ID column\n",
    "# median_build_yr_metroID=df_all.loc[np.isnan(df_all.build_year)==False,['ID_metro','build_year']].groupby('ID_metro')[['build_year']].median()\n",
    "# median_build_yr_metroID.reset_index(inplace=True)\n",
    "\n",
    "# n=0\n",
    "# for i in range(len(df_all)):\n",
    "#     if np.isnan(df_all.loc[i,'build_year']):\n",
    "#         metro = int(df_all.loc[i,'ID_metro'])\n",
    "#         df_all.loc[i,'build_year'] = median_build_yr_metroID.loc[metro,'build_year']\n",
    "#         n+=1\n",
    "# print('{} missing values are imputed'.format(n))"
   ]
  },
  {
   "cell_type": "code",
   "execution_count": 284,
   "metadata": {
    "collapsed": true
   },
   "outputs": [],
   "source": [
    "# #Kitch_sq missing imputation\n",
    "# df_all['kitch_life_ratio'] = df_all['kitch_sq']/df_all['life_sq']\n",
    "# median_kitch_life_ration=np.median(df_all.loc[df_all.kitch_life_ratio.isnull()==False,'kitch_life_ratio'])\n",
    "# df_all.loc[df_all.kitch_sq.isnull(),'kitch_sq'] = df_all['life_sq']*median_kitch_life_ration"
   ]
  },
  {
   "cell_type": "code",
   "execution_count": 307,
   "metadata": {
    "collapsed": false
   },
   "outputs": [
    {
     "name": "stdout",
     "output_type": "stream",
     "text": [
      "9574 missing values are imputed\n"
     ]
    }
   ],
   "source": [
    "# # Material imputation: mode material of each Metro ID\n",
    "# mode_material_metroID=df_all.loc[np.isnan(df_all.material)==False,['ID_metro','material']].groupby('ID_metro')[['material']].\\\n",
    "# apply(pd.DataFrame.mode)\n",
    "# mode_material_metroID.reset_index(inplace=True)\n",
    "# n=0\n",
    "# for i in range(len(df_all)):\n",
    "#     if np.isnan(df_all.loc[i,'material']):\n",
    "#         metro = int(df_all.loc[i,'ID_metro'])\n",
    "#         df_all.loc[i,'material'] = mode_material_metroID.loc[metro,'material']\n",
    "#         n+=1\n",
    "# print('{} missing values are imputed'.format(n))"
   ]
  },
  {
   "cell_type": "code",
   "execution_count": 389,
   "metadata": {
    "collapsed": false,
    "scrolled": true
   },
   "outputs": [
    {
     "ename": "KeyError",
     "evalue": "'the label [197] is not in the [index]'",
     "output_type": "error",
     "traceback": [
      "\u001b[0;31m---------------------------------------------------------------------------\u001b[0m",
      "\u001b[0;31mKeyError\u001b[0m                                  Traceback (most recent call last)",
      "\u001b[0;32m<ipython-input-389-e3a52a4c7ab7>\u001b[0m in \u001b[0;36m<module>\u001b[0;34m()\u001b[0m\n\u001b[1;32m      8\u001b[0m     \u001b[0;32mif\u001b[0m \u001b[0mnp\u001b[0m\u001b[0;34m.\u001b[0m\u001b[0misnan\u001b[0m\u001b[0;34m(\u001b[0m\u001b[0mdf_all\u001b[0m\u001b[0;34m.\u001b[0m\u001b[0mloc\u001b[0m\u001b[0;34m[\u001b[0m\u001b[0mi\u001b[0m\u001b[0;34m,\u001b[0m\u001b[0;34m'hospital_beds_raion'\u001b[0m\u001b[0;34m]\u001b[0m\u001b[0;34m)\u001b[0m\u001b[0;34m:\u001b[0m\u001b[0;34m\u001b[0m\u001b[0m\n\u001b[1;32m      9\u001b[0m         \u001b[0mmetro\u001b[0m \u001b[0;34m=\u001b[0m \u001b[0mint\u001b[0m\u001b[0;34m(\u001b[0m\u001b[0mdf_all\u001b[0m\u001b[0;34m.\u001b[0m\u001b[0mloc\u001b[0m\u001b[0;34m[\u001b[0m\u001b[0mi\u001b[0m\u001b[0;34m,\u001b[0m\u001b[0;34m'ID_metro'\u001b[0m\u001b[0;34m]\u001b[0m\u001b[0;34m)\u001b[0m\u001b[0;34m\u001b[0m\u001b[0m\n\u001b[0;32m---> 10\u001b[0;31m         \u001b[0mdf_all\u001b[0m\u001b[0;34m.\u001b[0m\u001b[0mloc\u001b[0m\u001b[0;34m[\u001b[0m\u001b[0mi\u001b[0m\u001b[0;34m,\u001b[0m\u001b[0;34m'hospital_beds_raion'\u001b[0m\u001b[0;34m]\u001b[0m \u001b[0;34m=\u001b[0m \u001b[0mmedian_hosp_beds_metroID\u001b[0m\u001b[0;34m.\u001b[0m\u001b[0mloc\u001b[0m\u001b[0;34m[\u001b[0m\u001b[0mmetro\u001b[0m\u001b[0;34m,\u001b[0m\u001b[0;34m'hospital_beds_raion'\u001b[0m\u001b[0;34m]\u001b[0m\u001b[0;34m\u001b[0m\u001b[0m\n\u001b[0m\u001b[1;32m     11\u001b[0m         \u001b[0mn\u001b[0m\u001b[0;34m+=\u001b[0m\u001b[0;36m1\u001b[0m\u001b[0;34m\u001b[0m\u001b[0m\n\u001b[1;32m     12\u001b[0m \u001b[0;34m\u001b[0m\u001b[0m\n",
      "\u001b[0;32m/Users/williamzhou/anaconda/lib/python2.7/site-packages/pandas/core/indexing.pyc\u001b[0m in \u001b[0;36m__getitem__\u001b[0;34m(self, key)\u001b[0m\n\u001b[1;32m   1308\u001b[0m \u001b[0;34m\u001b[0m\u001b[0m\n\u001b[1;32m   1309\u001b[0m         \u001b[0;32mif\u001b[0m \u001b[0mtype\u001b[0m\u001b[0;34m(\u001b[0m\u001b[0mkey\u001b[0m\u001b[0;34m)\u001b[0m \u001b[0;32mis\u001b[0m \u001b[0mtuple\u001b[0m\u001b[0;34m:\u001b[0m\u001b[0;34m\u001b[0m\u001b[0m\n\u001b[0;32m-> 1310\u001b[0;31m             \u001b[0;32mreturn\u001b[0m \u001b[0mself\u001b[0m\u001b[0;34m.\u001b[0m\u001b[0m_getitem_tuple\u001b[0m\u001b[0;34m(\u001b[0m\u001b[0mkey\u001b[0m\u001b[0;34m)\u001b[0m\u001b[0;34m\u001b[0m\u001b[0m\n\u001b[0m\u001b[1;32m   1311\u001b[0m         \u001b[0;32melse\u001b[0m\u001b[0;34m:\u001b[0m\u001b[0;34m\u001b[0m\u001b[0m\n\u001b[1;32m   1312\u001b[0m             \u001b[0;32mreturn\u001b[0m \u001b[0mself\u001b[0m\u001b[0;34m.\u001b[0m\u001b[0m_getitem_axis\u001b[0m\u001b[0;34m(\u001b[0m\u001b[0mkey\u001b[0m\u001b[0;34m,\u001b[0m \u001b[0maxis\u001b[0m\u001b[0;34m=\u001b[0m\u001b[0;36m0\u001b[0m\u001b[0;34m)\u001b[0m\u001b[0;34m\u001b[0m\u001b[0m\n",
      "\u001b[0;32m/Users/williamzhou/anaconda/lib/python2.7/site-packages/pandas/core/indexing.pyc\u001b[0m in \u001b[0;36m_getitem_tuple\u001b[0;34m(self, tup)\u001b[0m\n\u001b[1;32m    794\u001b[0m     \u001b[0;32mdef\u001b[0m \u001b[0m_getitem_tuple\u001b[0m\u001b[0;34m(\u001b[0m\u001b[0mself\u001b[0m\u001b[0;34m,\u001b[0m \u001b[0mtup\u001b[0m\u001b[0;34m)\u001b[0m\u001b[0;34m:\u001b[0m\u001b[0;34m\u001b[0m\u001b[0m\n\u001b[1;32m    795\u001b[0m         \u001b[0;32mtry\u001b[0m\u001b[0;34m:\u001b[0m\u001b[0;34m\u001b[0m\u001b[0m\n\u001b[0;32m--> 796\u001b[0;31m             \u001b[0;32mreturn\u001b[0m \u001b[0mself\u001b[0m\u001b[0;34m.\u001b[0m\u001b[0m_getitem_lowerdim\u001b[0m\u001b[0;34m(\u001b[0m\u001b[0mtup\u001b[0m\u001b[0;34m)\u001b[0m\u001b[0;34m\u001b[0m\u001b[0m\n\u001b[0m\u001b[1;32m    797\u001b[0m         \u001b[0;32mexcept\u001b[0m \u001b[0mIndexingError\u001b[0m\u001b[0;34m:\u001b[0m\u001b[0;34m\u001b[0m\u001b[0m\n\u001b[1;32m    798\u001b[0m             \u001b[0;32mpass\u001b[0m\u001b[0;34m\u001b[0m\u001b[0m\n",
      "\u001b[0;32m/Users/williamzhou/anaconda/lib/python2.7/site-packages/pandas/core/indexing.pyc\u001b[0m in \u001b[0;36m_getitem_lowerdim\u001b[0;34m(self, tup)\u001b[0m\n\u001b[1;32m    920\u001b[0m         \u001b[0;32mfor\u001b[0m \u001b[0mi\u001b[0m\u001b[0;34m,\u001b[0m \u001b[0mkey\u001b[0m \u001b[0;32min\u001b[0m \u001b[0menumerate\u001b[0m\u001b[0;34m(\u001b[0m\u001b[0mtup\u001b[0m\u001b[0;34m)\u001b[0m\u001b[0;34m:\u001b[0m\u001b[0;34m\u001b[0m\u001b[0m\n\u001b[1;32m    921\u001b[0m             \u001b[0;32mif\u001b[0m \u001b[0mis_label_like\u001b[0m\u001b[0;34m(\u001b[0m\u001b[0mkey\u001b[0m\u001b[0;34m)\u001b[0m \u001b[0;32mor\u001b[0m \u001b[0misinstance\u001b[0m\u001b[0;34m(\u001b[0m\u001b[0mkey\u001b[0m\u001b[0;34m,\u001b[0m \u001b[0mtuple\u001b[0m\u001b[0;34m)\u001b[0m\u001b[0;34m:\u001b[0m\u001b[0;34m\u001b[0m\u001b[0m\n\u001b[0;32m--> 922\u001b[0;31m                 \u001b[0msection\u001b[0m \u001b[0;34m=\u001b[0m \u001b[0mself\u001b[0m\u001b[0;34m.\u001b[0m\u001b[0m_getitem_axis\u001b[0m\u001b[0;34m(\u001b[0m\u001b[0mkey\u001b[0m\u001b[0;34m,\u001b[0m \u001b[0maxis\u001b[0m\u001b[0;34m=\u001b[0m\u001b[0mi\u001b[0m\u001b[0;34m)\u001b[0m\u001b[0;34m\u001b[0m\u001b[0m\n\u001b[0m\u001b[1;32m    923\u001b[0m \u001b[0;34m\u001b[0m\u001b[0m\n\u001b[1;32m    924\u001b[0m                 \u001b[0;31m# we have yielded a scalar ?\u001b[0m\u001b[0;34m\u001b[0m\u001b[0;34m\u001b[0m\u001b[0m\n",
      "\u001b[0;32m/Users/williamzhou/anaconda/lib/python2.7/site-packages/pandas/core/indexing.pyc\u001b[0m in \u001b[0;36m_getitem_axis\u001b[0;34m(self, key, axis)\u001b[0m\n\u001b[1;32m   1480\u001b[0m \u001b[0;34m\u001b[0m\u001b[0m\n\u001b[1;32m   1481\u001b[0m         \u001b[0;31m# fall thru to straight lookup\u001b[0m\u001b[0;34m\u001b[0m\u001b[0;34m\u001b[0m\u001b[0m\n\u001b[0;32m-> 1482\u001b[0;31m         \u001b[0mself\u001b[0m\u001b[0;34m.\u001b[0m\u001b[0m_has_valid_type\u001b[0m\u001b[0;34m(\u001b[0m\u001b[0mkey\u001b[0m\u001b[0;34m,\u001b[0m \u001b[0maxis\u001b[0m\u001b[0;34m)\u001b[0m\u001b[0;34m\u001b[0m\u001b[0m\n\u001b[0m\u001b[1;32m   1483\u001b[0m         \u001b[0;32mreturn\u001b[0m \u001b[0mself\u001b[0m\u001b[0;34m.\u001b[0m\u001b[0m_get_label\u001b[0m\u001b[0;34m(\u001b[0m\u001b[0mkey\u001b[0m\u001b[0;34m,\u001b[0m \u001b[0maxis\u001b[0m\u001b[0;34m=\u001b[0m\u001b[0maxis\u001b[0m\u001b[0;34m)\u001b[0m\u001b[0;34m\u001b[0m\u001b[0m\n\u001b[1;32m   1484\u001b[0m \u001b[0;34m\u001b[0m\u001b[0m\n",
      "\u001b[0;32m/Users/williamzhou/anaconda/lib/python2.7/site-packages/pandas/core/indexing.pyc\u001b[0m in \u001b[0;36m_has_valid_type\u001b[0;34m(self, key, axis)\u001b[0m\n\u001b[1;32m   1417\u001b[0m                 \u001b[0;32mraise\u001b[0m\u001b[0;34m\u001b[0m\u001b[0m\n\u001b[1;32m   1418\u001b[0m             \u001b[0;32mexcept\u001b[0m\u001b[0;34m:\u001b[0m\u001b[0;34m\u001b[0m\u001b[0m\n\u001b[0;32m-> 1419\u001b[0;31m                 \u001b[0merror\u001b[0m\u001b[0;34m(\u001b[0m\u001b[0;34m)\u001b[0m\u001b[0;34m\u001b[0m\u001b[0m\n\u001b[0m\u001b[1;32m   1420\u001b[0m \u001b[0;34m\u001b[0m\u001b[0m\n\u001b[1;32m   1421\u001b[0m         \u001b[0;32mreturn\u001b[0m \u001b[0mTrue\u001b[0m\u001b[0;34m\u001b[0m\u001b[0m\n",
      "\u001b[0;32m/Users/williamzhou/anaconda/lib/python2.7/site-packages/pandas/core/indexing.pyc\u001b[0m in \u001b[0;36merror\u001b[0;34m()\u001b[0m\n\u001b[1;32m   1404\u001b[0m                                     \"key\")\n\u001b[1;32m   1405\u001b[0m                 raise KeyError(\"the label [%s] is not in the [%s]\" %\n\u001b[0;32m-> 1406\u001b[0;31m                                (key, self.obj._get_axis_name(axis)))\n\u001b[0m\u001b[1;32m   1407\u001b[0m \u001b[0;34m\u001b[0m\u001b[0m\n\u001b[1;32m   1408\u001b[0m             \u001b[0;32mtry\u001b[0m\u001b[0;34m:\u001b[0m\u001b[0;34m\u001b[0m\u001b[0m\n",
      "\u001b[0;31mKeyError\u001b[0m: 'the label [197] is not in the [index]'"
     ]
    }
   ],
   "source": [
    "# # hospital_beds_raion imputation: median material of each Metro ID\n",
    "# median_hosp_beds_metroID=df_all.loc[np.isnan(df_all.hospital_beds_raion)==False,['ID_metro','hospital_beds_raion']].groupby('ID_metro')[['hospital_beds_raion']].median()\n",
    "# median_hosp_beds_metroID.reset_index(inplace=True)\n",
    "\n",
    "# n=0\n",
    "# for i in range(len(df_all)):\n",
    "\n",
    "#     if np.isnan(df_all.loc[i,'hospital_beds_raion']):\n",
    "#         metro = int(df_all.loc[i,'ID_metro'])\n",
    "#         df_all.loc[i,'hospital_beds_raion'] = median_hosp_beds_metroID.loc[metro,'hospital_beds_raion']\n",
    "#         n+=1\n",
    "\n",
    "# print('{} missing values are imputed'.format(n))"
   ]
  },
  {
   "cell_type": "code",
   "execution_count": 319,
   "metadata": {
    "collapsed": false
   },
   "outputs": [],
   "source": [
    "# universe_median_hosp_bed=np.median(df_all.loc[df_all.hospital_beds_raion.isnull()==False,'hospital_beds_raion'])\n",
    "# df_all.loc[df_all.hospital_beds_raion.isnull(),'hospital_beds_raion']=universe_median_hosp_bed"
   ]
  },
  {
   "cell_type": "code",
   "execution_count": 402,
   "metadata": {
    "collapsed": false
   },
   "outputs": [
    {
     "name": "stdout",
     "output_type": "stream",
     "text": [
      "59 missing values are imputed\n"
     ]
    }
   ],
   "source": [
    "# # Railroad Station walk KM is highly correlated with Railroad Station Avto KM\n",
    "# df_all['railroad_avto_walk_ratio'] = df_all['railroad_station_walk_km'].astype(float)/df_all['railroad_station_avto_km']\n",
    "# median_railroad_a_w_ratio_metroID=df_all.loc[np.isnan(df_all.railroad_station_walk_km)==False,['ID_metro','railroad_avto_walk_ratio']].groupby('ID_metro')[['railroad_avto_walk_ratio']].median()\n",
    "# median_railroad_a_w_ratio_metroID.reset_index(inplace=True)\n",
    "\n",
    "# n=0\n",
    "# for i in range(len(df_all)):\n",
    "\n",
    "#     if np.isnan(df_all.loc[i,'railroad_station_walk_km']):\n",
    "#         metro = int(df_all.loc[i,'ID_metro'])\n",
    "#         df_all.loc[i,'railroad_station_walk_km'] = median_railroad_a_w_ratio_metroID.loc[metro,'railroad_avto_walk_ratio']*df_all.loc[i,'railroad_station_avto_km']\n",
    "#         n+=1\n",
    "\n",
    "# print('{} missing values are imputed'.format(n))"
   ]
  },
  {
   "cell_type": "code",
   "execution_count": 390,
   "metadata": {
    "collapsed": false
   },
   "outputs": [
    {
     "name": "stdout",
     "output_type": "stream",
     "text": [
      "8284 missing values are imputed\n"
     ]
    }
   ],
   "source": [
    "# median_presch_metroID=df_all.loc[np.isnan(df_all.preschool_quota)==False,['ID_metro','preschool_quota']].groupby('ID_metro')[['preschool_quota']].median()\n",
    "# median_presch_metroID.reset_index(inplace=True)\n",
    "\n",
    "# n=0\n",
    "# for i in range(len(df_all)):\n",
    "\n",
    "#     if np.isnan(df_all.loc[i,'preschool_quota']):\n",
    "#         metro = int(df_all.loc[i,'ID_metro'])\n",
    "#         df_all.loc[i,'preschool_quota'] = median_presch_metroID.loc[metro,'preschool_quota']\n",
    "#         n+=1\n",
    "\n",
    "# print('{} missing values are imputed'.format(n))"
   ]
  },
  {
   "cell_type": "code",
   "execution_count": 334,
   "metadata": {
    "collapsed": false
   },
   "outputs": [
    {
     "name": "stdout",
     "output_type": "stream",
     "text": [
      "14253 missing values are imputed\n"
     ]
    }
   ],
   "source": [
    "# # State missing impute using mode by Metro ID \n",
    "# mode_state_metroID=df_all.loc[np.isnan(df_all.state)==False,['ID_metro','state']].groupby('ID_metro')[['state']].\\\n",
    "# apply(pd.DataFrame.mode)\n",
    "# mode_state_metroID.reset_index(inplace=True)\n",
    "# n=0\n",
    "# for i in range(len(df_all)):\n",
    "#     if np.isnan(df_all.loc[i,'state']):\n",
    "#         metro = int(df_all.loc[i,'ID_metro'])\n",
    "#         df_all.loc[i,'state'] = mode_state_metroID.loc[metro,'state']\n",
    "#         n+=1\n",
    "# print('{} missing values are imputed'.format(n))"
   ]
  },
  {
   "cell_type": "code",
   "execution_count": 335,
   "metadata": {
    "collapsed": false,
    "scrolled": true
   },
   "outputs": [
    {
     "data": {
      "text/plain": [
       "{'big_church_km': 0.0,\n",
       " 'build_year': 0.0,\n",
       " 'cemetery_km': 0.0,\n",
       " 'church_synagogue_km': 0.0,\n",
       " 'fitness_km': 0.0,\n",
       " 'floor': 0.0,\n",
       " 'full_sq': 0.0,\n",
       " 'green_part_1500': 0.0,\n",
       " 'green_part_500': 0.0,\n",
       " 'green_zone_km': 0.0,\n",
       " 'hospice_morgue_km': 0.0,\n",
       " 'hospital_beds_raion': 0.0,\n",
       " 'ice_rink_km': 0.0,\n",
       " 'industrial_km': 0.0,\n",
       " 'kindergarten_km': 0.0,\n",
       " 'kitch_sq': 0.0,\n",
       " 'life_sq': 0.0,\n",
       " 'market_shop_km': 0.0,\n",
       " 'material': 0.0,\n",
       " 'max_floor': 0.0,\n",
       " 'metro_min_avto': 0.0,\n",
       " 'month_year_cnt': 0.0,\n",
       " 'mosque_km': 0.0,\n",
       " 'nuclear_reactor_km': 0.0,\n",
       " 'num_room': 0.25151,\n",
       " 'office_sqm_500': 0.0,\n",
       " 'park_km': 0.0,\n",
       " 'preschool_quota': 0.0,\n",
       " 'radiation_km': 0.0,\n",
       " 'railroad_km': 0.0,\n",
       " 'railroad_station_walk_km': 0.0,\n",
       " 'sadovoe_km': 0.0,\n",
       " 'school_km': 0.0,\n",
       " 'state': 0.0,\n",
       " 'swim_pool_km': 0.0,\n",
       " 'theater_km': 0.0,\n",
       " 'thermal_power_plant_km': 0.0,\n",
       " 'water_km': 0.0,\n",
       " 'water_treatment_km': 0.0,\n",
       " 'week_year_cnt': 0.0}"
      ]
     },
     "execution_count": 335,
     "metadata": {},
     "output_type": "execute_result"
    }
   ],
   "source": [
    "def missing_percentage(df):\n",
    "    missing_list={}\n",
    "    for col_name in df.columns:\n",
    "        missing_perct=round((sum(df[col_name].isnull())/float(len(df[col_name]))),5)\n",
    "        missing_list[col_name]=missing_perct\n",
    "    return(missing_list)\n",
    "missing_percentage(df_all.loc[:,final_feature])"
   ]
  },
  {
   "cell_type": "code",
   "execution_count": 413,
   "metadata": {
    "collapsed": false
   },
   "outputs": [
    {
     "name": "stdout",
     "output_type": "stream",
     "text": [
      "('x_train shape', (30471, 299))\n",
      "('x_test shape', (7662, 299))\n",
      "('y_train shape', (30471,))\n"
     ]
    }
   ],
   "source": [
    "\n",
    "x_train = df_all.iloc[:num_train,:]\n",
    "x_test = df_all.iloc[num_train:,:].reset_index(drop=True)\n",
    "print('x_train shape',x_train.shape)\n",
    "print('x_test shape',x_test.shape)\n",
    "print('y_train shape',y_train.shape)\n"
   ]
  },
  {
   "cell_type": "code",
   "execution_count": 414,
   "metadata": {
    "collapsed": false
   },
   "outputs": [],
   "source": [
    "xgb_params = {\n",
    "    'eta': 0.05,\n",
    "    'max_depth': 5,\n",
    "    'subsample': 0.7,\n",
    "    'colsample_bytree': 0.7,\n",
    "    'objective': 'reg:linear',\n",
    "    'eval_metric': 'rmse',\n",
    "    'silent': 0\n",
    "}"
   ]
  },
  {
   "cell_type": "code",
   "execution_count": 415,
   "metadata": {
    "collapsed": false,
    "scrolled": true
   },
   "outputs": [
    {
     "name": "stdout",
     "output_type": "stream",
     "text": [
      "[0]\ttrain-rmse:137644\ttest-rmse:137656\n",
      "[50]\ttrain-rmse:42357.7\ttest-rmse:44128.3\n",
      "[100]\ttrain-rmse:38930.5\ttest-rmse:41692.2\n",
      "[150]\ttrain-rmse:37374.2\ttest-rmse:41133.8\n",
      "[200]\ttrain-rmse:36159.7\ttest-rmse:40803.7\n",
      "[250]\ttrain-rmse:35089.7\ttest-rmse:40634.4\n",
      "[300]\ttrain-rmse:34193.7\ttest-rmse:40534.9\n",
      "[350]\ttrain-rmse:33339\ttest-rmse:40468.8\n",
      "[400]\ttrain-rmse:32548.1\ttest-rmse:40432.6\n",
      "[450]\ttrain-rmse:31777.1\ttest-rmse:40406.5\n",
      "457\n",
      "     test-rmse-mean  test-rmse-std  train-rmse-mean  train-rmse-std\n",
      "0     137656.375000     518.822874    137644.328125      251.331099\n",
      "1     131583.458333     532.695565    131547.802083      244.129053\n",
      "2     125837.625000     562.104868    125783.411458      237.543497\n",
      "3     120397.791667     583.676207    120323.851563      234.887814\n",
      "4     115260.992187     612.720321    115177.606771      229.834781\n",
      "5     110431.585937     618.932120    110323.528646      240.601518\n",
      "6     105876.822916     627.069519    105749.372396      248.774887\n",
      "7     101590.872396     630.091708    101442.565105      267.213273\n",
      "8      97536.755209     658.606974     97367.846354      258.870396\n",
      "9      93732.565104     687.720695     93531.617188      271.276129\n",
      "10     90145.796875     692.632116     89917.565104      283.823557\n",
      "11     86782.260417     677.268534     86527.562500      308.958228\n",
      "12     83628.239584     690.656720     83342.747396      317.553347\n",
      "13     80668.294271     687.497602     80345.208333      335.016915\n",
      "14     77894.505208     703.586510     77536.393229      334.415582\n",
      "15     75293.067708     706.575899     74905.971354      348.649192\n",
      "16     72867.901042     720.862499     72447.281250      357.445814\n",
      "17     70590.721354     749.658246     70131.572917      359.626314\n",
      "18     68479.458333     773.692959     67971.296875      357.900929\n",
      "19     66479.101562     795.816454     65930.496094      351.723770\n",
      "20     64635.065104     796.827372     64044.395833      370.885155\n",
      "21     62928.757812     804.530248     62297.390625      376.103392\n",
      "22     61336.386719     798.211471     60657.299479      392.139994\n",
      "23     59833.539063     830.753663     59121.661458      383.749778\n",
      "24     58460.343750     845.897821     57708.470052      389.296208\n",
      "25     57196.627604     834.179062     56412.662760      405.119246\n",
      "26     56006.735677     854.334105     55191.488281      397.991030\n",
      "27     54896.539063     865.709927     54050.730469      401.274535\n",
      "28     53884.575521     895.938141     52988.729167      395.457472\n",
      "29     52959.114583     910.143112     52018.397135      400.101867\n",
      "..              ...            ...              ...             ...\n",
      "427    40423.238281     837.477556     32128.527995      335.726562\n",
      "428    40422.016927     838.310051     32110.623047      340.804582\n",
      "429    40422.976562     839.562150     32099.580078      340.782686\n",
      "430    40420.287760     840.982237     32085.616536      342.804901\n",
      "431    40419.684896     843.011939     32066.583334      342.248247\n",
      "432    40414.347656     838.368456     32051.027995      345.588581\n",
      "433    40415.420573     837.605920     32031.492838      344.540543\n",
      "434    40413.903646     840.441597     32015.770833      343.724956\n",
      "435    40414.492188     839.357446     31997.678385      345.884143\n",
      "436    40415.290365     837.826877     31980.720703      345.131142\n",
      "437    40416.667969     840.244568     31968.388672      340.780290\n",
      "438    40419.960938     842.202363     31951.252604      341.131992\n",
      "439    40420.164063     840.226464     31935.472005      338.732831\n",
      "440    40419.438802     839.670597     31918.878906      333.187000\n",
      "441    40420.332031     841.745892     31903.722656      333.761343\n",
      "442    40419.134115     841.980132     31892.652344      338.271407\n",
      "443    40418.139323     842.694846     31884.488932      338.745546\n",
      "444    40412.954427     845.807496     31872.442057      332.757179\n",
      "445    40412.230469     846.068305     31857.639974      335.236430\n",
      "446    40407.899739     850.807714     31838.949219      334.947359\n",
      "447    40408.187500     849.014494     31824.091146      328.977863\n",
      "448    40408.156250     848.190506     31805.400391      326.729364\n",
      "449    40406.134115     847.097426     31791.370443      327.900529\n",
      "450    40406.546875     846.995091     31777.141927      330.102659\n",
      "451    40408.817708     847.251941     31764.357422      332.968514\n",
      "452    40404.167969     846.389415     31749.699870      323.322026\n",
      "453    40403.416667     845.445173     31733.678385      322.201129\n",
      "454    40403.199219     845.343671     31721.608073      323.477693\n",
      "455    40402.554687     843.856508     31701.796224      324.088676\n",
      "456    40402.529948     842.314066     31684.274088      325.257682\n",
      "\n",
      "[457 rows x 4 columns]\n",
      "Finish XGBoost training\n"
     ]
    }
   ],
   "source": [
    "x_train_subset = x_train.loc[:,final_feature]\n",
    "x_test_subset = x_test.loc[:,final_feature]\n",
    "dtrain_subset = xgb.DMatrix(x_train_subset, y_train)\n",
    "dtest_subset =  xgb.DMatrix(x_test_subset)\n",
    "cv_output = xgb.cv(xgb_params, dtrain_subset, \n",
    "                   num_boost_round=1000, \n",
    "                   early_stopping_rounds=20,\n",
    "                   verbose_eval=50, show_stdv=False)\n",
    "\n",
    "num_boost_rounds = len(cv_output)\n",
    "print(num_boost_rounds)\n",
    "print(cv_output)\n",
    "model = xgb.train(dict(xgb_params, silent=0), dtrain_subset, num_boost_round= num_boost_rounds)\n",
    "print('Finish XGBoost training')"
   ]
  },
  {
   "cell_type": "code",
   "execution_count": 422,
   "metadata": {
    "collapsed": false
   },
   "outputs": [
    {
     "data": {
      "text/html": [
       "<div>\n",
       "<table border=\"1\" class=\"dataframe\">\n",
       "  <thead>\n",
       "    <tr style=\"text-align: right;\">\n",
       "      <th></th>\n",
       "      <th>id</th>\n",
       "      <th>price_doc</th>\n",
       "    </tr>\n",
       "  </thead>\n",
       "  <tbody>\n",
       "    <tr>\n",
       "      <th>0</th>\n",
       "      <td>30474</td>\n",
       "      <td>5.437809e+06</td>\n",
       "    </tr>\n",
       "    <tr>\n",
       "      <th>1</th>\n",
       "      <td>30475</td>\n",
       "      <td>7.776436e+06</td>\n",
       "    </tr>\n",
       "    <tr>\n",
       "      <th>2</th>\n",
       "      <td>30476</td>\n",
       "      <td>5.312257e+06</td>\n",
       "    </tr>\n",
       "    <tr>\n",
       "      <th>3</th>\n",
       "      <td>30477</td>\n",
       "      <td>5.674297e+06</td>\n",
       "    </tr>\n",
       "    <tr>\n",
       "      <th>4</th>\n",
       "      <td>30478</td>\n",
       "      <td>5.045797e+06</td>\n",
       "    </tr>\n",
       "  </tbody>\n",
       "</table>\n",
       "</div>"
      ],
      "text/plain": [
       "      id     price_doc\n",
       "0  30474  5.437809e+06\n",
       "1  30475  7.776436e+06\n",
       "2  30476  5.312257e+06\n",
       "3  30477  5.674297e+06\n",
       "4  30478  5.045797e+06"
      ]
     },
     "execution_count": 422,
     "metadata": {},
     "output_type": "execute_result"
    }
   ],
   "source": [
    "y_predict = model.predict(dtest_subset)\n",
    "y_predic_all_sq = (y_predict)*x_test['full_sq']\n",
    "df_sub = pd.DataFrame({'id': test.id, 'price_doc': y_predic_all_sq*0.975})\n",
    "df_sub.to_csv('./sub.csv', index=False)\n",
    "df_sub.head()"
   ]
  },
  {
   "cell_type": "code",
   "execution_count": null,
   "metadata": {
    "collapsed": true
   },
   "outputs": [],
   "source": []
  }
 ],
 "metadata": {
  "kernelspec": {
   "display_name": "Python 2",
   "language": "python",
   "name": "python2"
  },
  "language_info": {
   "codemirror_mode": {
    "name": "ipython",
    "version": 2
   },
   "file_extension": ".py",
   "mimetype": "text/x-python",
   "name": "python",
   "nbconvert_exporter": "python",
   "pygments_lexer": "ipython2",
   "version": "2.7.13"
  }
 },
 "nbformat": 4,
 "nbformat_minor": 2
}
