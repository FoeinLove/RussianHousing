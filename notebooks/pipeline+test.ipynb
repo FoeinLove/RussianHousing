{
 "cells": [
  {
   "cell_type": "code",
   "execution_count": 1,
   "metadata": {
    "collapsed": true
   },
   "outputs": [],
   "source": [
    "import numpy as np\n",
    "import pandas as pd\n",
    "import matplotlib.pyplot as plt\n",
    "import seaborn as sns\n",
    "%matplotlib inline\n",
    "from sklearn import model_selection, preprocessing\n",
    "import xgboost as xgb\n",
    "import datetime\n"
   ]
  },
  {
   "cell_type": "code",
   "execution_count": 4,
   "metadata": {
    "collapsed": false
   },
   "outputs": [
    {
     "name": "stdout",
     "output_type": "stream",
     "text": [
      "/Users/williamzhou/Desktop/russian_real_estate\n"
     ]
    }
   ],
   "source": [
    "cd /Users/williamzhou/Desktop/russian_real_estate"
   ]
  },
  {
   "cell_type": "code",
   "execution_count": 17,
   "metadata": {
    "collapsed": false
   },
   "outputs": [
    {
     "name": "stdout",
     "output_type": "stream",
     "text": [
      "('x_train_subset shape', (30471, 97))\n",
      "('x_test_subset shape', (7662, 96))\n"
     ]
    }
   ],
   "source": [
    "x_train_subset=pd.read_csv('./clean_data/train_clean.csv')\n",
    "x_test_subset = pd.read_csv('./clean_data/test_clean.csv')\n",
    "\n",
    "print ('x_train_subset shape',x_train_subset.shape)\n",
    "print ('x_test_subset shape',x_test_subset.shape)"
   ]
  },
  {
   "cell_type": "code",
   "execution_count": 20,
   "metadata": {
    "collapsed": false
   },
   "outputs": [
    {
     "name": "stdout",
     "output_type": "stream",
     "text": [
      "('x_train_subset shape', (30471, 95))\n",
      "('x_test_subset shape', (7662, 95))\n",
      "('y_train_subset shape', (30471,))\n"
     ]
    }
   ],
   "source": [
    "test_id = x_test_subset.id\n",
    "y_train_subset = x_train_subset['price_doc']\n",
    "x_train_subset=x_train_subset.drop(['id','price_doc'],axis=1)\n",
    "x_test_subset=x_test_subset.drop(['id'],axis=1)\n",
    "print ('x_train_subset shape',x_train_subset.shape)\n",
    "print ('x_test_subset shape',x_test_subset.shape)\n",
    "print ('y_train_subset shape',y_train_subset.shape)\n"
   ]
  },
  {
   "cell_type": "code",
   "execution_count": 22,
   "metadata": {
    "collapsed": false
   },
   "outputs": [],
   "source": [
    "dtrain_subset = xgb.DMatrix(x_train_subset, y_train_subset)\n",
    "dtest_subset =  xgb.DMatrix(x_test_subset)"
   ]
  },
  {
   "cell_type": "code",
   "execution_count": 23,
   "metadata": {
    "collapsed": true
   },
   "outputs": [],
   "source": [
    "xgb_params = {\n",
    "    'eta': 0.05,\n",
    "    'max_depth': 5,\n",
    "    'subsample': 0.7,\n",
    "    'colsample_bytree': 0.7,\n",
    "    'objective': 'reg:linear',\n",
    "    'eval_metric': 'rmse',\n",
    "    'silent': 1\n",
    "}"
   ]
  },
  {
   "cell_type": "code",
   "execution_count": 24,
   "metadata": {
    "collapsed": false
   },
   "outputs": [
    {
     "name": "stdout",
     "output_type": "stream",
     "text": [
      "[0]\ttrain-rmse:8.2065e+06\ttest-rmse:8.21161e+06\n",
      "[50]\ttrain-rmse:2.53974e+06\ttest-rmse:2.89098e+06\n",
      "[100]\ttrain-rmse:2.20286e+06\ttest-rmse:2.70089e+06\n",
      "[150]\ttrain-rmse:2.07411e+06\ttest-rmse:2.65747e+06\n",
      "[200]\ttrain-rmse:1.98022e+06\ttest-rmse:2.63322e+06\n",
      "[250]\ttrain-rmse:1.90464e+06\ttest-rmse:2.62288e+06\n",
      "[300]\ttrain-rmse:1.84187e+06\ttest-rmse:2.61501e+06\n",
      "[350]\ttrain-rmse:1.78237e+06\ttest-rmse:2.60802e+06\n",
      "[400]\ttrain-rmse:1.73008e+06\ttest-rmse:2.605e+06\n",
      "[450]\ttrain-rmse:1.68586e+06\ttest-rmse:2.60207e+06\n",
      "[500]\ttrain-rmse:1.64236e+06\ttest-rmse:2.59955e+06\n"
     ]
    }
   ],
   "source": [
    "cv_output = xgb.cv(xgb_params, dtrain_subset, num_boost_round=1000, early_stopping_rounds=20,\n",
    "    verbose_eval=50, show_stdv=False)"
   ]
  },
  {
   "cell_type": "code",
   "execution_count": null,
   "metadata": {
    "collapsed": false
   },
   "outputs": [],
   "source": []
  },
  {
   "cell_type": "code",
   "execution_count": null,
   "metadata": {
    "collapsed": true
   },
   "outputs": [],
   "source": []
  }
 ],
 "metadata": {
  "kernelspec": {
   "display_name": "Python 2",
   "language": "python",
   "name": "python2"
  },
  "language_info": {
   "codemirror_mode": {
    "name": "ipython",
    "version": 2
   },
   "file_extension": ".py",
   "mimetype": "text/x-python",
   "name": "python",
   "nbconvert_exporter": "python",
   "pygments_lexer": "ipython2",
   "version": "2.7.13"
  }
 },
 "nbformat": 4,
 "nbformat_minor": 2
}
