{
 "cells": [
  {
   "cell_type": "code",
   "execution_count": 72,
   "metadata": {},
   "outputs": [],
   "source": [
    "import numpy as np\n",
    "import pandas as pd\n",
    "import matplotlib.pyplot as plt\n",
    "import seaborn as sns\n",
    "%matplotlib inline\n",
    "from sklearn import model_selection, preprocessing\n",
    "import xgboost as xgb\n",
    "from datetime import timedelta\n",
    "import datetime\n",
    "import math\n",
    "from sklearn import model_selection\n",
    "# from sklearn import proprocessing\n",
    "from sklearn import linear_model\n",
    "from sklearn.linear_model import Ridge, RidgeCV\n",
    "from sklearn.linear_model import Lasso, LassoCV"
   ]
  },
  {
   "cell_type": "code",
   "execution_count": 73,
   "metadata": {},
   "outputs": [],
   "source": [
    "train_missing=pd.read_csv('./train_xgb.csv')\n",
    "test_missing= pd.read_csv('./test_xgb.csv')\n",
    "\n",
    "train_copy = train_missing\n",
    "\n",
    "test_for_id_only = pd.read_csv('../Data/test_lonlat_id_CS_0521_feature.csv')\n",
    "\n",
    "test_id = test_for_id_only.id"
   ]
  },
  {
   "cell_type": "code",
   "execution_count": 74,
   "metadata": {},
   "outputs": [],
   "source": [
    "# test_id"
   ]
  },
  {
   "cell_type": "markdown",
   "metadata": {},
   "source": [
    "### 1m 2m Investment isolation"
   ]
  },
  {
   "cell_type": "code",
   "execution_count": 75,
   "metadata": {},
   "outputs": [],
   "source": [
    "# print train_missing.shape\n",
    "# train_1m      = train_missing.loc[(train_missing.price_doc==1000000),:]\n",
    "# train_missing = train_missing.loc[-(train_missing.price_doc==1000000),:]\n",
    "\n",
    "# print train_missing.shape\n",
    "# train_2m      = train_missing.loc[(train_missing.price_doc==1000000),:]\n",
    "# train_missing = train_missing.loc[-(train_missing.price_doc==2000000),:]\n",
    "# train_missing.shape"
   ]
  },
  {
   "cell_type": "code",
   "execution_count": 76,
   "metadata": {},
   "outputs": [
    {
     "name": "stdout",
     "output_type": "stream",
     "text": [
      "(30471, 43)\n",
      "(28967, 43)\n"
     ]
    }
   ],
   "source": [
    "print train_missing.shape\n",
    "train_1m_2m   = train_missing.loc[(train_missing.price_doc==1000000)|(train_missing.price_doc==2000000),:]\n",
    "train_missing = train_missing.loc[-((train_missing.price_doc==1000000)|(train_missing.price_doc==2000000)),:]\n",
    "\n",
    "print train_missing.shape\n",
    "# train_2m      = train_missing.loc[(train_missing.price_doc==1000000),:]\n",
    "# train_missing = train_missing.loc[-(train_missing.price_doc==2000000),:]\n",
    "# train_missing.shape"
   ]
  },
  {
   "cell_type": "code",
   "execution_count": 77,
   "metadata": {},
   "outputs": [
    {
     "name": "stderr",
     "output_type": "stream",
     "text": [
      "/Users/chao/anaconda/lib/python2.7/site-packages/ipykernel/__main__.py:1: SettingWithCopyWarning: \n",
      "A value is trying to be set on a copy of a slice from a DataFrame.\n",
      "Try using .loc[row_indexer,col_indexer] = value instead\n",
      "\n",
      "See the caveats in the documentation: http://pandas.pydata.org/pandas-docs/stable/indexing.html#indexing-view-versus-copy\n",
      "  if __name__ == '__main__':\n",
      "/Users/chao/anaconda/lib/python2.7/site-packages/ipykernel/__main__.py:2: SettingWithCopyWarning: \n",
      "A value is trying to be set on a copy of a slice from a DataFrame.\n",
      "Try using .loc[row_indexer,col_indexer] = value instead\n",
      "\n",
      "See the caveats in the documentation: http://pandas.pydata.org/pandas-docs/stable/indexing.html#indexing-view-versus-copy\n",
      "  from ipykernel import kernelapp as app\n"
     ]
    }
   ],
   "source": [
    "train_missing['price_full_sq'] = (train_missing['price_doc']/train_missing['full_sq'].astype(float)).astype(int)\n",
    "train_1m_2m['price_full_sq']   = (train_1m_2m['price_doc']/train_1m_2m['full_sq'].astype(float)).astype(int)\n",
    "y_train_missing = train_missing['price_full_sq']"
   ]
  },
  {
   "cell_type": "code",
   "execution_count": 78,
   "metadata": {},
   "outputs": [],
   "source": [
    "x_train_missing = train_missing.drop(['price_full_sq','price_doc','id','timestamp'],axis=1)\n",
    "x_train_1m_2m   = train_1m_2m.drop(['price_full_sq','price_doc','id','timestamp'],axis=1)\n",
    "x_test_missing  = test_missing.drop(['id','timestamp'],axis=1)"
   ]
  },
  {
   "cell_type": "code",
   "execution_count": 84,
   "metadata": {},
   "outputs": [
    {
     "name": "stdout",
     "output_type": "stream",
     "text": [
      "[0]\ttrain-rmse:140678\ttest-rmse:140706\n",
      "[50]\ttrain-rmse:34783.7\ttest-rmse:36715.6\n",
      "[100]\ttrain-rmse:30590.3\ttest-rmse:33776.4\n",
      "[150]\ttrain-rmse:29087\ttest-rmse:33168.4\n",
      "[200]\ttrain-rmse:27888.2\ttest-rmse:32816.2\n",
      "[250]\ttrain-rmse:26854.2\ttest-rmse:32575.4\n",
      "[300]\ttrain-rmse:26009.8\ttest-rmse:32438.9\n",
      "[350]\ttrain-rmse:25249.8\ttest-rmse:32362.1\n",
      "[400]\ttrain-rmse:24528.8\ttest-rmse:32305.8\n",
      "[450]\ttrain-rmse:23873.5\ttest-rmse:32274.1\n",
      "[500]\ttrain-rmse:23243.1\ttest-rmse:32230.9\n",
      "32211.2929687\n"
     ]
    }
   ],
   "source": [
    "xgb_params = {\n",
    "    'eta': 0.05,\n",
    "    'max_depth': 5,\n",
    "    'subsample': 0.7,\n",
    "    'colsample_bytree': 0.7,\n",
    "    'objective': 'reg:linear',\n",
    "    'eval_metric': 'rmse',\n",
    "    'silent': 0\n",
    "}\n",
    "\n",
    "\n",
    "\n",
    "x_train_missing_subset = x_train_missing\n",
    "x_train_1m_2m_subset   = x_train_1m_2m\n",
    "x_test_missing_subset  = x_test_missing\n",
    "\n",
    "dtrain_subset       = xgb.DMatrix(x_train_missing_subset, y_train_missing)\n",
    "dtrain_1m_2m_subset =  xgb.DMatrix(x_train_1m_2m_subset)  # this is the 1m 2m loc\n",
    "dtest_subset =  xgb.DMatrix(x_test_missing_subset)\n",
    "\n",
    "cv_output = xgb.cv(xgb_params, dtrain_subset, \n",
    "                       num_boost_round=1000, \n",
    "                       early_stopping_rounds=20,\n",
    "                       verbose_eval=50, show_stdv=False)\n",
    "test_rmse = cv_output.loc[len(cv_output)-1,'test-rmse-mean']\n",
    "print(test_rmse)\n"
   ]
  },
  {
   "cell_type": "code",
   "execution_count": 80,
   "metadata": {},
   "outputs": [
    {
     "name": "stdout",
     "output_type": "stream",
     "text": [
      "     test-rmse-mean  test-rmse-std  train-rmse-mean  train-rmse-std\n",
      "0     140705.854167     820.474086    140678.213542      408.832376\n",
      "1     134226.531250     816.120428    134179.354167      415.626004\n",
      "2     128102.986979     832.380519    128033.382812      409.300271\n",
      "3     122327.765625     854.531795    122241.140625      403.600657\n",
      "4     116849.255208     862.538059    116735.218750      396.021145\n",
      "5     111655.122396     881.381002    111522.044271      385.069998\n",
      "6     106745.078125     887.251865    106583.763021      385.072588\n",
      "7     102125.934896     898.736979    101933.731771      382.401722\n",
      "8      97758.552083     923.197629     97533.570313      369.267328\n",
      "9      93634.473958     934.468350     93377.684896      369.807786\n",
      "10     89722.497396     955.795700     89440.609375      366.782076\n",
      "11     86038.898438     970.567330     85730.760417      369.973523\n",
      "12     82586.677083    1011.622008     82250.885417      338.419684\n",
      "13     79324.117187    1025.655770     78958.286458      331.423211\n",
      "14     76240.911458    1043.855076     75838.247396      307.306857\n",
      "15     73367.645833    1044.398612     72929.236979      303.976685\n",
      "16     70659.585938    1070.502782     70183.536458      300.349377\n",
      "17     68118.757813    1065.941309     67602.041667      300.858658\n",
      "18     65726.815105    1092.113473     65170.214844      285.477967\n",
      "19     63471.376302    1099.769661     62879.738281      283.787559\n",
      "20     61373.614583    1109.992816     60733.881510      275.242024\n",
      "21     59429.652344    1112.622646     58737.251302      272.195960\n",
      "22     57597.600260    1115.783438     56863.411458      272.806039\n",
      "23     55894.191406    1119.665440     55110.375000      265.649918\n",
      "24     54300.307292    1123.377419     53468.667969      257.523522\n",
      "25     52823.011719    1141.973880     51945.634114      253.963167\n",
      "26     51416.033854    1154.952867     50499.742187      235.400806\n",
      "27     50113.199219    1160.236218     49158.339844      237.538168\n",
      "28     48905.798177    1171.695929     47915.419271      237.464344\n",
      "29     47797.790365    1169.734218     46754.389323      243.657384\n",
      "..              ...            ...              ...             ...\n",
      "488    32231.205078     642.985280     23394.270834      105.270512\n",
      "489    32230.732422     644.111000     23382.960286      104.737088\n",
      "490    32233.006510     645.131560     23373.460938      107.252296\n",
      "491    32233.363932     647.979152     23363.636718      106.948054\n",
      "492    32230.421224     647.646380     23344.796875      107.576950\n",
      "493    32229.497396     649.078780     23329.606771      108.779264\n",
      "494    32227.112630     646.940168     23312.716146      108.297997\n",
      "495    32228.368490     649.284972     23301.326823      108.535303\n",
      "496    32226.720052     650.003055     23290.606120      106.433910\n",
      "497    32224.247396     650.043788     23278.294922      108.710629\n",
      "498    32225.931641     649.094974     23263.440755      108.758411\n",
      "499    32227.789063     649.127012     23252.649740      107.721338\n",
      "500    32230.854818     648.459184     23243.104166      111.511585\n",
      "501    32231.688151     646.790716     23231.937500      110.969438\n",
      "502    32227.374349     648.908903     23217.294271      106.338674\n",
      "503    32227.058594     650.085460     23205.779297      105.405892\n",
      "504    32227.065104     648.273552     23195.742187      102.664179\n",
      "505    32227.263021     647.298669     23184.747396      109.205407\n",
      "506    32225.428386     648.626060     23172.783854      111.288852\n",
      "507    32226.206380     649.086569     23159.816406      110.320282\n",
      "508    32225.479818     649.360021     23148.709635      111.379726\n",
      "509    32219.423828     643.704379     23140.487630      110.903675\n",
      "510    32220.192708     644.233729     23132.554036      108.959820\n",
      "511    32220.026042     642.677225     23122.606771      110.682331\n",
      "512    32217.800130     644.685339     23108.652344      108.902080\n",
      "513    32217.000000     643.302084     23097.660807      110.973392\n",
      "514    32216.710938     645.406222     23082.339844      107.792504\n",
      "515    32216.098307     645.962030     23074.526693      108.135873\n",
      "516    32211.589193     648.514128     23065.479167      110.486464\n",
      "517    32211.292969     648.431237     23055.830729      109.821694\n",
      "\n",
      "[518 rows x 4 columns]\n",
      "Finish XGBoost training\n"
     ]
    }
   ],
   "source": [
    "num_boost_rounds= len(cv_output)\n",
    "print(cv_output)\n",
    "model = xgb.train(dict(xgb_params, silent=0), dtrain_subset, num_boost_round= num_boost_rounds)\n",
    "print('Finish XGBoost training')"
   ]
  },
  {
   "cell_type": "markdown",
   "metadata": {},
   "source": [
    "### predict price for the original 1m 2m 'Investment' listings"
   ]
  },
  {
   "cell_type": "code",
   "execution_count": 86,
   "metadata": {},
   "outputs": [
    {
     "data": {
      "text/plain": [
       "(1504,)"
      ]
     },
     "execution_count": 86,
     "metadata": {},
     "output_type": "execute_result"
    }
   ],
   "source": [
    "y_train_1m_2m.shape"
   ]
  },
  {
   "cell_type": "code",
   "execution_count": 85,
   "metadata": {},
   "outputs": [],
   "source": [
    "y_train_1m_2m = model.predict(dtrain_1m_2m_subset)\n",
    "y_train_1m_2m_all_sq = (y_train_1m_2m)*x_train_1m_2m['full_sq']"
   ]
  },
  {
   "cell_type": "code",
   "execution_count": 90,
   "metadata": {},
   "outputs": [
    {
     "data": {
      "text/plain": [
       "<matplotlib.axes._subplots.AxesSubplot at 0x1177c84d0>"
      ]
     },
     "execution_count": 90,
     "metadata": {},
     "output_type": "execute_result"
    },
    {
     "data": {
      "image/png": "[encoded data removed]",
      "text/plain": [
       "<matplotlib.figure.Figure at 0x1177df590>"
      ]
     },
     "metadata": {},
     "output_type": "display_data"
    }
   ],
   "source": [
    "y_train_1m_2m_all_sq.hist(bins=20)"
   ]
  },
  {
   "cell_type": "markdown",
   "metadata": {},
   "source": [
    "### now put the recalculated price back "
   ]
  },
  {
   "cell_type": "code",
   "execution_count": 92,
   "metadata": {},
   "outputs": [],
   "source": [
    "train_copy.loc[(train_copy.price_doc==1000000)|(train_copy.price_doc==2000000),'price_doc'] = y_train_1m_2m_all_sq"
   ]
  },
  {
   "cell_type": "code",
   "execution_count": 95,
   "metadata": {},
   "outputs": [
    {
     "data": {
      "image/png": "[encoded data removed]",
      "text/plain": [
       "<matplotlib.figure.Figure at 0x117493590>"
      ]
     },
     "metadata": {},
     "output_type": "display_data"
    }
   ],
   "source": [
    "import visualization as vis\n",
    "vis.hist_density_plot(train_copy, x='price_doc', logx=True)"
   ]
  },
  {
   "cell_type": "code",
   "execution_count": 96,
   "metadata": {
    "collapsed": true
   },
   "outputs": [],
   "source": [
    "train_copy.to_csv('train_xgb_1m_2m_repredicted.csv')"
   ]
  },
  {
   "cell_type": "markdown",
   "metadata": {},
   "source": [
    "### now retrain with new data (1m 2m listings repredicted)"
   ]
  },
  {
   "cell_type": "code",
   "execution_count": 97,
   "metadata": {
    "collapsed": true
   },
   "outputs": [],
   "source": [
    "train2 = train_cofpy\n",
    "\n",
    "train2['price_full_sq'] = (train2['price_doc']/train2['full_sq'].astype(float)).astype(int)\n",
    "y_train2 = train2['price_full_sq']"
   ]
  },
  {
   "cell_type": "code",
   "execution_count": 99,
   "metadata": {
    "collapsed": true
   },
   "outputs": [],
   "source": [
    "x_train2 = train2.drop(['price_full_sq','price_doc','id','timestamp'],axis=1)"
   ]
  },
  {
   "cell_type": "code",
   "execution_count": 100,
   "metadata": {},
   "outputs": [
    {
     "name": "stdout",
     "output_type": "stream",
     "text": [
      "[0]\ttrain-rmse:140981\ttest-rmse:140994\n",
      "[50]\ttrain-rmse:34251.2\ttest-rmse:35941.9\n",
      "[100]\ttrain-rmse:30050\ttest-rmse:32801.7\n",
      "[150]\ttrain-rmse:28599.8\ttest-rmse:32154.5\n",
      "[200]\ttrain-rmse:27399.4\ttest-rmse:31750.3\n",
      "[250]\ttrain-rmse:26422.6\ttest-rmse:31510.6\n",
      "[300]\ttrain-rmse:25607.3\ttest-rmse:31344.6\n",
      "[350]\ttrain-rmse:24876.4\ttest-rmse:31232.2\n",
      "[400]\ttrain-rmse:24185.2\ttest-rmse:31136.4\n",
      "[450]\ttrain-rmse:23558.1\ttest-rmse:31074.5\n",
      "[500]\ttrain-rmse:22935.8\ttest-rmse:31041.1\n",
      "[550]\ttrain-rmse:22363.4\ttest-rmse:31024.8\n",
      "[600]\ttrain-rmse:21852.3\ttest-rmse:30992.8\n",
      "[650]\ttrain-rmse:21363.1\ttest-rmse:30979\n",
      "[700]\ttrain-rmse:20907.6\ttest-rmse:30979\n",
      "30971.6621093\n"
     ]
    }
   ],
   "source": [
    "xgb_params = {\n",
    "    'eta': 0.05,\n",
    "    'max_depth': 5,\n",
    "    'subsample': 0.7,\n",
    "    'colsample_bytree': 0.7,\n",
    "    'objective': 'reg:linear',\n",
    "    'eval_metric': 'rmse',\n",
    "    'silent': 0\n",
    "}\n",
    "\n",
    "\n",
    "\n",
    "x_train_missing_subset = x_train2\n",
    "x_test_missing_subset  = x_test_missing\n",
    "\n",
    "dtrain_subset = xgb.DMatrix(x_train_missing_subset, y_train2)\n",
    "dtest_subset  = xgb.DMatrix(x_test_missing_subset)\n",
    "\n",
    "cv_output = xgb.cv(xgb_params, dtrain_subset, \n",
    "                       num_boost_round=1000, \n",
    "                       early_stopping_rounds=20,\n",
    "                       verbose_eval=50, show_stdv=False)\n",
    "test_rmse = cv_output.loc[len(cv_output)-1,'test-rmse-mean']\n",
    "print(test_rmse)"
   ]
  },
  {
   "cell_type": "code",
   "execution_count": 103,
   "metadata": {},
   "outputs": [
    {
     "name": "stdout",
     "output_type": "stream",
     "text": [
      "     test-rmse-mean  test-rmse-std  train-rmse-mean  train-rmse-std\n",
      "0     140993.739583     508.160141    140980.885417      255.730464\n",
      "1     134486.468750     530.298774    134456.151042      246.938125\n",
      "2     128337.697917     535.583943    128288.382813      256.297511\n",
      "3     122497.377604     553.211963    122441.429687      260.398080\n",
      "4     116975.544271     574.339126    116899.544271      261.935520\n",
      "5     111768.338542     584.195710    111672.200521      269.924495\n",
      "6     106830.968750     594.868022    106717.083334      272.716585\n",
      "7     102165.320312     602.680146    102030.536458      284.100746\n",
      "8      97747.104167     615.847006     97592.684896      290.712260\n",
      "9      93580.776042     630.227686     93404.932292      290.791840\n",
      "10     89646.502604     641.278872     89444.705729      303.029122\n",
      "11     85930.033854     656.275919     85708.218750      314.079920\n",
      "12     82436.744792     669.231679     82182.463542      322.773026\n",
      "13     79141.669271     700.368125     78852.096354      321.246680\n",
      "14     76053.572917     708.905069     75732.632812      322.266581\n",
      "15     73139.028646     729.101087     72783.940104      319.250906\n",
      "16     70412.973959     746.055954     70010.658854      320.784982\n",
      "17     67825.895833     762.580578     67401.135417      340.496406\n",
      "18     65424.957031     767.824274     64953.005208      365.393552\n",
      "19     63158.649740     777.031829     62650.498698      384.936277\n",
      "20     61040.463542     786.751194     60498.319010      407.799682\n",
      "21     59072.998698     813.819163     58478.921875      401.466974\n",
      "22     57205.904948     823.251381     56584.756510      417.859129\n",
      "23     55464.454427     848.214212     54805.501302      420.063155\n",
      "24     53849.352865     885.587236     53139.134115      417.673747\n",
      "25     52338.769531     914.338462     51588.145833      424.722310\n",
      "26     50920.481771     918.803847     50125.531250      436.756691\n",
      "27     49606.481771     938.211214     48777.029948      444.083236\n",
      "28     48385.298177     947.592500     47512.496094      447.247504\n",
      "29     47245.600261     960.088870     46332.354167      450.765190\n",
      "..              ...            ...              ...             ...\n",
      "655    30979.187500    1045.266670     21308.279297      390.373406\n",
      "656    30980.142578    1045.564563     21301.386068      391.627148\n",
      "657    30979.207031    1045.828833     21291.764323      390.979309\n",
      "658    30978.608724    1045.220025     21284.597005      393.380653\n",
      "659    30979.627604    1046.373713     21275.075521      393.795915\n",
      "660    30975.975911    1044.268931     21263.430338      394.513001\n",
      "661    30975.764974    1043.499728     21254.981771      395.934838\n",
      "662    30974.956380    1043.396414     21243.745443      396.309396\n",
      "663    30974.070963    1042.657454     21235.460286      394.636222\n",
      "664    30973.906250    1043.158524     21227.212240      394.213675\n",
      "665    30973.187500    1042.761593     21220.846354      392.365788\n",
      "666    30972.372396    1043.800845     21209.383464      390.569542\n",
      "667    30974.589844    1043.621673     21199.831380      390.545113\n",
      "668    30974.268880    1044.292164     21192.217448      386.961362\n",
      "669    30975.429687    1044.705129     21186.518229      388.111236\n",
      "670    30974.950521    1044.454769     21174.740885      387.163453\n",
      "671    30974.295573    1044.668384     21166.427734      385.588439\n",
      "672    30973.095703    1042.568342     21159.311198      387.598410\n",
      "673    30972.211588    1044.310477     21151.598958      387.046755\n",
      "674    30972.863932    1044.838946     21145.360026      385.672561\n",
      "675    30973.419922    1045.593813     21139.266276      387.398048\n",
      "676    30973.583333    1044.412731     21131.899089      388.811694\n",
      "677    30973.835937    1044.623250     21122.987630      388.380723\n",
      "678    30973.222005    1043.753020     21113.453125      387.853255\n",
      "679    30972.621745    1043.092662     21103.832031      388.841588\n",
      "680    30972.880859    1042.398257     21096.046224      388.809058\n",
      "681    30974.739583    1042.685018     21083.091145      391.325878\n",
      "682    30972.323568    1042.484667     21072.083333      392.763167\n",
      "683    30973.451172    1040.842037     21062.719401      389.471563\n",
      "684    30971.662109    1039.419159     21055.916666      389.762573\n",
      "\n",
      "[685 rows x 4 columns]\n",
      "Finish XGBoost training\n"
     ]
    }
   ],
   "source": [
    "num_boost_rounds= len(cv_output)\n",
    "print(cv_output)\n",
    "model = xgb.train(dict(xgb_params, silent=0), dtrain_subset, num_boost_round= num_boost_rounds)\n",
    "print('Finish XGBoost training')"
   ]
  },
  {
   "cell_type": "code",
   "execution_count": 104,
   "metadata": {},
   "outputs": [
    {
     "data": {
      "text/html": [
       "<div>\n",
       "<style>\n",
       "    .dataframe thead tr:only-child th {\n",
       "        text-align: right;\n",
       "    }\n",
       "\n",
       "    .dataframe thead th {\n",
       "        text-align: left;\n",
       "    }\n",
       "\n",
       "    .dataframe tbody tr th {\n",
       "        vertical-align: top;\n",
       "    }\n",
       "</style>\n",
       "<table border=\"1\" class=\"dataframe\">\n",
       "  <thead>\n",
       "    <tr style=\"text-align: right;\">\n",
       "      <th></th>\n",
       "      <th>id</th>\n",
       "      <th>price_doc</th>\n",
       "    </tr>\n",
       "  </thead>\n",
       "  <tbody>\n",
       "    <tr>\n",
       "      <th>0</th>\n",
       "      <td>30474</td>\n",
       "      <td>5.777015e+06</td>\n",
       "    </tr>\n",
       "    <tr>\n",
       "      <th>1</th>\n",
       "      <td>30475</td>\n",
       "      <td>8.394229e+06</td>\n",
       "    </tr>\n",
       "    <tr>\n",
       "      <th>2</th>\n",
       "      <td>30476</td>\n",
       "      <td>5.937208e+06</td>\n",
       "    </tr>\n",
       "    <tr>\n",
       "      <th>3</th>\n",
       "      <td>30477</td>\n",
       "      <td>6.039288e+06</td>\n",
       "    </tr>\n",
       "    <tr>\n",
       "      <th>4</th>\n",
       "      <td>30478</td>\n",
       "      <td>5.035712e+06</td>\n",
       "    </tr>\n",
       "  </tbody>\n",
       "</table>\n",
       "</div>"
      ],
      "text/plain": [
       "      id     price_doc\n",
       "0  30474  5.777015e+06\n",
       "1  30475  8.394229e+06\n",
       "2  30476  5.937208e+06\n",
       "3  30477  6.039288e+06\n",
       "4  30478  5.035712e+06"
      ]
     },
     "execution_count": 104,
     "metadata": {},
     "output_type": "execute_result"
    }
   ],
   "source": [
    "y_predict = model.predict(dtest_subset)\n",
    "y_predic_all_sq = (y_predict)*x_test_missing['full_sq']\n",
    "df_sub = pd.DataFrame({'id': test_id, 'price_doc': y_predic_all_sq})\n",
    "df_sub.to_csv('./sub_1.csv', index=False)\n",
    "df_sub.head()"
   ]
  },
  {
   "cell_type": "code",
   "execution_count": 105,
   "metadata": {},
   "outputs": [
    {
     "data": {
      "text/html": [
       "<div>\n",
       "<style>\n",
       "    .dataframe thead tr:only-child th {\n",
       "        text-align: right;\n",
       "    }\n",
       "\n",
       "    .dataframe thead th {\n",
       "        text-align: left;\n",
       "    }\n",
       "\n",
       "    .dataframe tbody tr th {\n",
       "        vertical-align: top;\n",
       "    }\n",
       "</style>\n",
       "<table border=\"1\" class=\"dataframe\">\n",
       "  <thead>\n",
       "    <tr style=\"text-align: right;\">\n",
       "      <th></th>\n",
       "      <th>id</th>\n",
       "      <th>price_doc</th>\n",
       "    </tr>\n",
       "  </thead>\n",
       "  <tbody>\n",
       "    <tr>\n",
       "      <th>0</th>\n",
       "      <td>30474</td>\n",
       "      <td>5.632589e+06</td>\n",
       "    </tr>\n",
       "    <tr>\n",
       "      <th>1</th>\n",
       "      <td>30475</td>\n",
       "      <td>8.184373e+06</td>\n",
       "    </tr>\n",
       "    <tr>\n",
       "      <th>2</th>\n",
       "      <td>30476</td>\n",
       "      <td>5.788778e+06</td>\n",
       "    </tr>\n",
       "    <tr>\n",
       "      <th>3</th>\n",
       "      <td>30477</td>\n",
       "      <td>5.888305e+06</td>\n",
       "    </tr>\n",
       "    <tr>\n",
       "      <th>4</th>\n",
       "      <td>30478</td>\n",
       "      <td>4.909820e+06</td>\n",
       "    </tr>\n",
       "  </tbody>\n",
       "</table>\n",
       "</div>"
      ],
      "text/plain": [
       "      id     price_doc\n",
       "0  30474  5.632589e+06\n",
       "1  30475  8.184373e+06\n",
       "2  30476  5.788778e+06\n",
       "3  30477  5.888305e+06\n",
       "4  30478  4.909820e+06"
      ]
     },
     "execution_count": 105,
     "metadata": {},
     "output_type": "execute_result"
    }
   ],
   "source": [
    "y_predict_mod = model.predict(dtest_subset)\n",
    "y_predic_all_sq = (y_predict_mod)*x_test_missing['full_sq']*0.975\n",
    "df_sub = pd.DataFrame({'id': test_id, 'price_doc': y_predic_all_sq})\n",
    "df_sub.to_csv('./sub_2_mod.csv', index=False)\n",
    "df_sub.head()"
   ]
  },
  {
   "cell_type": "code",
   "execution_count": 19,
   "metadata": {},
   "outputs": [
    {
     "data": {
      "text/plain": [
       "0.9564151008439543"
      ]
     },
     "execution_count": 19,
     "metadata": {},
     "output_type": "execute_result"
    }
   ],
   "source": [
    "# 5437809/5685616.0"
   ]
  },
  {
   "cell_type": "code",
   "execution_count": 20,
   "metadata": {
    "collapsed": true
   },
   "outputs": [],
   "source": [
    "# sub_975=pd.read_csv('./sub_0.975_wei_0523.csv')"
   ]
  },
  {
   "cell_type": "code",
   "execution_count": 22,
   "metadata": {},
   "outputs": [],
   "source": [
    "# r = sub_975.price_doc / y_predic_all_sq"
   ]
  },
  {
   "cell_type": "code",
   "execution_count": 42,
   "metadata": {},
   "outputs": [
    {
     "data": {
      "text/html": [
       "<div>\n",
       "<style>\n",
       "    .dataframe thead tr:only-child th {\n",
       "        text-align: right;\n",
       "    }\n",
       "\n",
       "    .dataframe thead th {\n",
       "        text-align: left;\n",
       "    }\n",
       "\n",
       "    .dataframe tbody tr th {\n",
       "        vertical-align: top;\n",
       "    }\n",
       "</style>\n",
       "<table border=\"1\" class=\"dataframe\">\n",
       "  <thead>\n",
       "    <tr style=\"text-align: right;\">\n",
       "      <th></th>\n",
       "      <th>id</th>\n",
       "      <th>price_doc</th>\n",
       "    </tr>\n",
       "  </thead>\n",
       "  <tbody>\n",
       "    <tr>\n",
       "      <th>0</th>\n",
       "      <td>30474</td>\n",
       "      <td>5.437809e+06</td>\n",
       "    </tr>\n",
       "    <tr>\n",
       "      <th>1</th>\n",
       "      <td>30475</td>\n",
       "      <td>7.776436e+06</td>\n",
       "    </tr>\n",
       "    <tr>\n",
       "      <th>2</th>\n",
       "      <td>30476</td>\n",
       "      <td>5.312257e+06</td>\n",
       "    </tr>\n",
       "    <tr>\n",
       "      <th>3</th>\n",
       "      <td>30477</td>\n",
       "      <td>5.674297e+06</td>\n",
       "    </tr>\n",
       "    <tr>\n",
       "      <th>4</th>\n",
       "      <td>30478</td>\n",
       "      <td>5.045797e+06</td>\n",
       "    </tr>\n",
       "  </tbody>\n",
       "</table>\n",
       "</div>"
      ],
      "text/plain": [
       "      id     price_doc\n",
       "0  30474  5.437809e+06\n",
       "1  30475  7.776436e+06\n",
       "2  30476  5.312257e+06\n",
       "3  30477  5.674297e+06\n",
       "4  30478  5.045797e+06"
      ]
     },
     "execution_count": 42,
     "metadata": {},
     "output_type": "execute_result"
    }
   ],
   "source": [
    "# sub_975.head()"
   ]
  },
  {
   "cell_type": "code",
   "execution_count": 24,
   "metadata": {},
   "outputs": [
    {
     "data": {
      "text/plain": [
       "<matplotlib.axes._subplots.AxesSubplot at 0x117348650>"
      ]
     },
     "execution_count": 24,
     "metadata": {},
     "output_type": "execute_result"
    },
    {
     "data": {
      "image/png": "[encoded data removed]",
      "text/plain": [
       "<matplotlib.figure.Figure at 0x11736d1d0>"
      ]
     },
     "metadata": {},
     "output_type": "display_data"
    }
   ],
   "source": [
    "# r.hist(bins=20)"
   ]
  },
  {
   "cell_type": "code",
   "execution_count": 43,
   "metadata": {},
   "outputs": [
    {
     "data": {
      "text/plain": [
       "1.0018019061255827"
      ]
     },
     "execution_count": 43,
     "metadata": {},
     "output_type": "execute_result"
    }
   ],
   "source": [
    "# sub_975.price_doc.sum() / y_predic_all_sq.sum()"
   ]
  },
  {
   "cell_type": "code",
   "execution_count": 41,
   "metadata": {},
   "outputs": [
    {
     "data": {
      "text/html": [
       "<div>\n",
       "<style>\n",
       "    .dataframe thead tr:only-child th {\n",
       "        text-align: right;\n",
       "    }\n",
       "\n",
       "    .dataframe thead th {\n",
       "        text-align: left;\n",
       "    }\n",
       "\n",
       "    .dataframe tbody tr th {\n",
       "        vertical-align: top;\n",
       "    }\n",
       "</style>\n",
       "<table border=\"1\" class=\"dataframe\">\n",
       "  <thead>\n",
       "    <tr style=\"text-align: right;\">\n",
       "      <th></th>\n",
       "      <th>id</th>\n",
       "      <th>price_doc</th>\n",
       "    </tr>\n",
       "  </thead>\n",
       "  <tbody>\n",
       "    <tr>\n",
       "      <th>0</th>\n",
       "      <td>30474</td>\n",
       "      <td>5.458192e+06</td>\n",
       "    </tr>\n",
       "    <tr>\n",
       "      <th>1</th>\n",
       "      <td>30475</td>\n",
       "      <td>7.532280e+06</td>\n",
       "    </tr>\n",
       "    <tr>\n",
       "      <th>2</th>\n",
       "      <td>30476</td>\n",
       "      <td>5.288877e+06</td>\n",
       "    </tr>\n",
       "    <tr>\n",
       "      <th>3</th>\n",
       "      <td>30477</td>\n",
       "      <td>5.477155e+06</td>\n",
       "    </tr>\n",
       "    <tr>\n",
       "      <th>4</th>\n",
       "      <td>30478</td>\n",
       "      <td>4.706789e+06</td>\n",
       "    </tr>\n",
       "  </tbody>\n",
       "</table>\n",
       "</div>"
      ],
      "text/plain": [
       "      id     price_doc\n",
       "0  30474  5.458192e+06\n",
       "1  30475  7.532280e+06\n",
       "2  30476  5.288877e+06\n",
       "3  30477  5.477155e+06\n",
       "4  30478  4.706789e+06"
      ]
     },
     "execution_count": 41,
     "metadata": {},
     "output_type": "execute_result"
    }
   ],
   "source": [
    "# y_predict_mod_2 = model.predict(dtest_subset)\n",
    "# y_predic_all_sq = (y_predict_mod_2)*x_test_missing['full_sq']*0.975*0.96\n",
    "# df_sub = pd.DataFrame({'id': test_id, 'price_doc': y_predic_all_sq})\n",
    "# df_sub.to_csv('./sub_3_mod.csv', index=False)\n",
    "# df_sub.head()"
   ]
  },
  {
   "cell_type": "code",
   "execution_count": null,
   "metadata": {
    "collapsed": true
   },
   "outputs": [],
   "source": []
  }
 ],
 "metadata": {
  "kernelspec": {
   "display_name": "Python 2",
   "language": "python",
   "name": "python2"
  },
  "language_info": {
   "codemirror_mode": {
    "name": "ipython",
    "version": 2
   },
   "file_extension": ".py",
   "mimetype": "text/x-python",
   "name": "python",
   "nbconvert_exporter": "python",
   "pygments_lexer": "ipython2",
   "version": "2.7.13"
  }
 },
 "nbformat": 4,
 "nbformat_minor": 2
}
