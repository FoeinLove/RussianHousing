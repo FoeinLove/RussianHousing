{
 "cells": [
  {
   "cell_type": "code",
   "execution_count": 1,
   "metadata": {
    "collapsed": true
   },
   "outputs": [],
   "source": [
    "import pandas as pd \n",
    "import numpy as np\n",
    "import sklearn\n",
    "from sklearn import model_selection\n",
    "from sklearn import linear_model\n",
    "import xgboost as xgb\n"
   ]
  },
  {
   "cell_type": "code",
   "execution_count": 2,
   "metadata": {
    "collapsed": false
   },
   "outputs": [
    {
     "name": "stdout",
     "output_type": "stream",
     "text": [
      "/Users/williamzhou/Documents/github/RussianHousing/data/best\n"
     ]
    }
   ],
   "source": [
    "cd /Users/williamzhou/Documents/github/RussianHousing/data/best"
   ]
  },
  {
   "cell_type": "code",
   "execution_count": 3,
   "metadata": {
    "collapsed": false
   },
   "outputs": [],
   "source": [
    "x_train = pd.read_csv('./x_train.csv')\n",
    "y_train = pd.read_csv('./y_train.csv')\n",
    "x_test  = pd.read_csv('./x_test.csv')"
   ]
  },
  {
   "cell_type": "code",
   "execution_count": 4,
   "metadata": {
    "collapsed": false
   },
   "outputs": [
    {
     "name": "stdout",
     "output_type": "stream",
     "text": [
      "(30471, 40)\n",
      "(30471, 1)\n",
      "(7662, 40)\n"
     ]
    }
   ],
   "source": [
    "print(x_train.shape)\n",
    "print(y_train.shape)\n",
    "print(x_test.shape)"
   ]
  },
  {
   "cell_type": "code",
   "execution_count": 5,
   "metadata": {
    "collapsed": false
   },
   "outputs": [
    {
     "name": "stderr",
     "output_type": "stream",
     "text": [
      "/Users/williamzhou/anaconda/lib/python2.7/site-packages/sklearn/model_selection/_split.py:581: Warning: The least populated class in y has only 1 members, which is too few. The minimum number of groups for any class cannot be less than n_splits=3.\n",
      "  % (min_groups, self.n_splits)), Warning)\n"
     ]
    },
    {
     "name": "stdout",
     "output_type": "stream",
     "text": [
      "('fold1 shape', 17417)\n",
      "('fold2 shape', 7641)\n",
      "('fold3 shape', 5413)\n"
     ]
    }
   ],
   "source": [
    "import numpy as np\n",
    "import sklearn\n",
    "from sklearn import model_selection\n",
    "\n",
    "skf = model_selection.StratifiedKFold(n_splits=3)\n",
    "folds = skf.split(x_train, y_train.iloc[:,0])\n",
    "_, fold1 = folds.next()\n",
    "_, fold2 = folds.next()\n",
    "_, fold3 = folds.next()\n",
    "\n",
    "print('fold1 shape',len(fold1))\n",
    "print('fold2 shape',len(fold2))\n",
    "print('fold3 shape',len(fold3))\n"
   ]
  },
  {
   "cell_type": "code",
   "execution_count": 6,
   "metadata": {
    "collapsed": true
   },
   "outputs": [],
   "source": [
    "fold12 = np.concatenate([fold1,fold2])\n",
    "fold23 = np.concatenate([fold2,fold3])\n",
    "fold13 = np.concatenate([fold1,fold3])"
   ]
  },
  {
   "cell_type": "code",
   "execution_count": 7,
   "metadata": {
    "collapsed": false
   },
   "outputs": [],
   "source": [
    "# def get_3fold_stack(model,x_train,y_train,x_test):   \n",
    "# #     train fold1 and fold2\n",
    "#     model.train(x_train.loc[fold12,:], y_train.loc[fold12,:])\n",
    "#     new_3=model.predict(x_train.loc[fold3,:])\n",
    "#     v1 = model.predict(x_test)\n",
    "# #     train fold2 and fold3\n",
    "#     model.train(x_train.loc[fold23,:], y_train.loc[fold23,:])\n",
    "#     new_1=model.predict(x_train.loc[fold1,:])\n",
    "#     v2 = model.predict(x_test)  \n",
    "# #     train fold1 and fold3\n",
    "#     model.train(x_train.loc[fold13,:], y_train.loc[fold13,:])\n",
    "#     new_2=model.predict(x_train[fold2])\n",
    "#     v3 = model.predict(x_test)\n",
    "\n",
    "#     return np.concatenate([new1,new2,new3], axis=0), (v1+v2+v3)/3"
   ]
  },
  {
   "cell_type": "code",
   "execution_count": 10,
   "metadata": {
    "collapsed": true
   },
   "outputs": [],
   "source": [
    "def get_xgboost_3fold_stack(param,x_train,y_train,x_test):   \n",
    "    print ('Train XGBoost with: {}'.format(param))\n",
    "    \n",
    "    dtrain_fold_combo = xgb.DMatrix(x_train.loc[fold12,:],y_train.loc[fold12,:])\n",
    "    dtrain_fold = xgb.DMatrix(x_train.loc[fold3,:],y_train.loc[fold3,:])\n",
    "    dtest =  xgb.DMatrix(x_test)\n",
    "    model = xgb.train(dict(param, silent=0),dtrain_fold_combo)\n",
    "    new_1 =  model.predict(dtrain_fold)\n",
    "    v_1   =  model.predict(dtest)\n",
    "    print('Finish fold12')\n",
    "    \n",
    "    dtrain_fold_combo = xgb.DMatrix(x_train.loc[fold23,:],y_train.loc[fold23,:])\n",
    "    dtrain_fold = xgb.DMatrix(x_train.loc[fold1,:],y_train.loc[fold1,:])\n",
    "    dtest =  xgb.DMatrix(x_test)\n",
    "    model = xgb.train(dict(param, silent=0),dtrain_fold_combo)\n",
    "    new_2 =  model.predict(dtrain_fold)\n",
    "    v_2   =  model.predict(dtest)\n",
    "    print('Finish fold23')\n",
    "    \n",
    "    dtrain_fold_combo = xgb.DMatrix(x_train.loc[fold13,:],y_train.loc[fold13,:])\n",
    "    dtrain_fold = xgb.DMatrix(x_train.loc[fold2,:],y_train.loc[fold2,:])\n",
    "    dtest =  xgb.DMatrix(x_test)\n",
    "    model = xgb.train(dict(param, silent=0),dtrain_fold_combo)\n",
    "    new_3 =  model.predict(dtrain_fold)\n",
    "    v_3   =  model.predict(dtest)\n",
    "    print('Finish fold13')\n",
    "    \n",
    "    return np.concatenate([new_1,new_2,new_3], axis=0), (v_1+v_2+v_3)/3\n",
    "    print('Finish model training and prediction')"
   ]
  },
  {
   "cell_type": "code",
   "execution_count": 11,
   "metadata": {
    "collapsed": false
   },
   "outputs": [
    {
     "name": "stdout",
     "output_type": "stream",
     "text": [
      "Train XGBoost with: {'subsample': 0.7, 'eta': 0.05, 'colsample_bytree': 0.7, 'early_stopping_rounds': 20, 'eval_metric': 'rmse', 'objective': 'reg:linear', 'max_depth': 5, 'silent': 0}\n",
      "Finish fold12\n",
      "Finish fold23\n",
      "Finish fold13\n",
      "Train XGBoost with: {'colsample_bytree': 0.7, 'silent': 0, 'eval_metric': 'rmse', 'subsample': 0.7, 'eta': 0.04, 'objective': 'reg:linear', 'max_depth': 6}\n",
      "Finish fold12\n",
      "Finish fold23\n",
      "Finish fold13\n",
      "Train XGBoost with: {'colsample_bytree': 0.7, 'silent': 0, 'eval_metric': 'rmse', 'subsample': 1.0, 'eta': 0.02, 'objective': 'reg:linear', 'max_depth': 5}\n",
      "Finish fold12\n",
      "Finish fold23\n",
      "Finish fold13\n",
      "CPU times: user 5.56 s, sys: 188 ms, total: 5.75 s\n",
      "Wall time: 5.75 s\n"
     ]
    }
   ],
   "source": [
    "%%time\n",
    "\n",
    "xgb1_params = {\n",
    "    'eta': 0.05,\n",
    "    'max_depth': 5,\n",
    "    'subsample': 0.7,\n",
    "    'colsample_bytree': 0.7,\n",
    "    'objective': 'reg:linear',\n",
    "    'eval_metric': 'rmse',\n",
    "    'early_stopping_rounds':20,\n",
    "    'silent': 0}\n",
    "\n",
    "xgb2_params = {\n",
    "    'eta': 0.04,\n",
    "    'max_depth': 6,\n",
    "    'subsample': 0.7,\n",
    "    'colsample_bytree': 0.7,\n",
    "    'objective': 'reg:linear',\n",
    "    'eval_metric': 'rmse',\n",
    "    'silent': 0}\n",
    "\n",
    "xgb3_params = {\n",
    "    'eta': 0.02,\n",
    "    'max_depth': 5,\n",
    "    'subsample': 1.0,\n",
    "    'colsample_bytree': 0.7,\n",
    "    'objective': 'reg:linear',\n",
    "    'eval_metric': 'rmse',\n",
    "    'silent': 0}\n",
    "\n",
    "\n",
    "xgboost1_train, xgboost1_test = get_xgboost_3fold_stack(xgb1_params,x_train,y_train,x_test)\n",
    "xgboost2_train, xgboost2_test = get_xgboost_3fold_stack(xgb2_params,x_train,y_train,x_test)\n",
    "xgboost3_train, xgboost3_test = get_xgboost_3fold_stack(xgb3_params,x_train,y_train,x_test)\n"
   ]
  },
  {
   "cell_type": "code",
   "execution_count": 40,
   "metadata": {
    "collapsed": false
   },
   "outputs": [],
   "source": [
    "X_train_stack = np.concatenate([x_train, \n",
    "                                pd.DataFrame(xgboost1_train),\n",
    "                                pd.DataFrame(xgboost2_train),\n",
    "                                pd.DataFrame(xgboost3_train)], axis=1)\n",
    "xgtrain_stack = xgb.DMatrix(X_train_stack,y_train)\n",
    "\n",
    "\n",
    "X_test_stack = np.concatenate([x_test, \n",
    "                                pd.DataFrame(xgboost1_test),\n",
    "                                pd.DataFrame(xgboost2_test),\n",
    "                                pd.DataFrame(xgboost3_test)], axis=1)\n",
    "\n",
    "xgtest_stack = xgb.DMatrix(X_test_stack)"
   ]
  },
  {
   "cell_type": "code",
   "execution_count": 37,
   "metadata": {
    "collapsed": false
   },
   "outputs": [
    {
     "name": "stdout",
     "output_type": "stream",
     "text": [
      "[0]\ttrain-rmse:134051\ttest-rmse:134062\n",
      "[50]\ttrain-rmse:40935.2\ttest-rmse:42592\n",
      "[100]\ttrain-rmse:37504.3\ttest-rmse:40429\n",
      "[150]\ttrain-rmse:36038.5\ttest-rmse:39962.8\n",
      "[200]\ttrain-rmse:34903.2\ttest-rmse:39713.3\n",
      "[250]\ttrain-rmse:33872.9\ttest-rmse:39563.5\n",
      "[300]\ttrain-rmse:32925.9\ttest-rmse:39473.1\n",
      "[350]\ttrain-rmse:32089.1\ttest-rmse:39415.8\n",
      "[400]\ttrain-rmse:31332.3\ttest-rmse:39382.8\n",
      "[450]\ttrain-rmse:30585.4\ttest-rmse:39372.5\n",
      "39365.377604\n"
     ]
    }
   ],
   "source": [
    "final_xgb_params = {\n",
    "    'eta': 0.05,\n",
    "    'max_depth': 5,\n",
    "    'subsample': 0.7,\n",
    "    'colsample_bytree': 0.7,\n",
    "    'objective': 'reg:linear',\n",
    "    'eval_metric': 'rmse',\n",
    "    'silent': 0}\n",
    "\n",
    "cv_output = xgb.cv(final_xgb_params, xgtrain_stack, \n",
    "                       num_boost_round=1000, \n",
    "                       early_stopping_rounds=20,\n",
    "                       verbose_eval=50, show_stdv=False)\n",
    "test_rmse = cv_output.loc[len(cv_output)-1,'test-rmse-mean']\n",
    "print(test_rmse)  \n",
    "num_boost_rounds = len(cv_output)\n",
    "model = xgb.train(dict(final_xgb_params, silent=0), xgtrain_stack, num_boost_round=num_boost_rounds)\n"
   ]
  },
  {
   "cell_type": "code",
   "execution_count": 41,
   "metadata": {
    "collapsed": false
   },
   "outputs": [
    {
     "data": {
      "text/html": [
       "<div>\n",
       "<table border=\"1\" class=\"dataframe\">\n",
       "  <thead>\n",
       "    <tr style=\"text-align: right;\">\n",
       "      <th></th>\n",
       "      <th>id</th>\n",
       "      <th>price_doc</th>\n",
       "    </tr>\n",
       "  </thead>\n",
       "  <tbody>\n",
       "    <tr>\n",
       "      <th>0</th>\n",
       "      <td>30474</td>\n",
       "      <td>5.498277e+06</td>\n",
       "    </tr>\n",
       "    <tr>\n",
       "      <th>1</th>\n",
       "      <td>30475</td>\n",
       "      <td>7.911552e+06</td>\n",
       "    </tr>\n",
       "    <tr>\n",
       "      <th>2</th>\n",
       "      <td>30476</td>\n",
       "      <td>5.083375e+06</td>\n",
       "    </tr>\n",
       "    <tr>\n",
       "      <th>3</th>\n",
       "      <td>30477</td>\n",
       "      <td>5.639118e+06</td>\n",
       "    </tr>\n",
       "    <tr>\n",
       "      <th>4</th>\n",
       "      <td>30478</td>\n",
       "      <td>4.642392e+06</td>\n",
       "    </tr>\n",
       "  </tbody>\n",
       "</table>\n",
       "</div>"
      ],
      "text/plain": [
       "      id     price_doc\n",
       "0  30474  5.498277e+06\n",
       "1  30475  7.911552e+06\n",
       "2  30476  5.083375e+06\n",
       "3  30477  5.639118e+06\n",
       "4  30478  4.642392e+06"
      ]
     },
     "execution_count": 41,
     "metadata": {},
     "output_type": "execute_result"
    }
   ],
   "source": [
    "y_predict = model.predict(xgtest_stack)\n",
    "y_predic_all_sq = (y_predict)*x_test['full_sq']\n",
    "df_sub = pd.DataFrame({'id': range(30474,30474+7662), 'price_doc': y_predic_all_sq})\n",
    "df_sub.to_csv('./sub.csv', index=False)\n",
    "df_sub.head()"
   ]
  },
  {
   "cell_type": "code",
   "execution_count": null,
   "metadata": {
    "collapsed": true
   },
   "outputs": [],
   "source": []
  },
  {
   "cell_type": "code",
   "execution_count": null,
   "metadata": {
    "collapsed": true
   },
   "outputs": [],
   "source": []
  }
 ],
 "metadata": {
  "kernelspec": {
   "display_name": "Python 2",
   "language": "python",
   "name": "python2"
  },
  "language_info": {
   "codemirror_mode": {
    "name": "ipython",
    "version": 2
   },
   "file_extension": ".py",
   "mimetype": "text/x-python",
   "name": "python",
   "nbconvert_exporter": "python",
   "pygments_lexer": "ipython2",
   "version": "2.7.13"
  }
 },
 "nbformat": 4,
 "nbformat_minor": 2
}
